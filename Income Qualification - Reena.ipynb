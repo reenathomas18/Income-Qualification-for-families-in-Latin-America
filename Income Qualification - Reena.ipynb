{
 "cells": [
  {
   "cell_type": "markdown",
   "metadata": {},
   "source": [
    "# INCOME QUALIFICATION\n",
    "\n",
    "## Description\n",
    "\n",
    "Identify the level of income qualification needed for the families in Latin America.\n",
    "\n",
    "## Problem Statement Scenario:\n",
    "Many social programs have a hard time ensuring that the right people are given enough aid. It’s tricky when a program focuses on the poorest segment of the population. This segment of the population can’t provide the necessary income and expense records to prove that they qualify.\n",
    "\n",
    "In Latin America, a popular method called Proxy Means Test (PMT) uses an algorithm to verify income qualification. With PMT, agencies use a model that considers a family’s observable household attributes like the material of their walls and ceiling or the assets found in their homes to\n",
    "classify them and predict their level of need.\n",
    "\n",
    "While this is an improvement, accuracy remains a problem as the region’s population grows and poverty declines.\n",
    "\n",
    "The Inter-American Development Bank (IDB)believes that new methods beyond traditional econometrics, based on a dataset of Costa Rican household characteristics, might help improve PMT’s performance."
   ]
  },
  {
   "cell_type": "code",
   "execution_count": 2,
   "metadata": {},
   "outputs": [],
   "source": [
    "#Importing the necessary libraries\n",
    "import pandas as pd\n",
    "import numpy as np\n",
    "import warnings\n",
    "import matplotlib.pyplot as plt\n",
    "import seaborn as sns\n"
   ]
  },
  {
   "cell_type": "code",
   "execution_count": 3,
   "metadata": {},
   "outputs": [],
   "source": [
    "#Eliminate warnings\n",
    "warnings.filterwarnings('ignore')"
   ]
  },
  {
   "cell_type": "code",
   "execution_count": 4,
   "metadata": {},
   "outputs": [
    {
     "name": "stdout",
     "output_type": "stream",
     "text": [
      "No of elements in test dataframe is 23856\n",
      "No of elements in train dataframe is 9557\n"
     ]
    }
   ],
   "source": [
    "# Loading the dataset\n",
    "test_df = pd.read_csv('test.csv')\n",
    "train_df = pd.read_csv('train.csv')\n",
    "print (\"No of elements in test dataframe is {}\".format(len(test_df)))\n",
    "print (\"No of elements in train dataframe is {}\".format(len(train_df)))\n",
    "\n",
    "\n",
    "#Filling missing values in test vsv with Nan\n",
    "#test_df.Target = np.nan\n",
    "bckup_label = train_df['Target']\n",
    "train_df.drop(['Target'],axis =1 ,inplace =True)\n"
   ]
  },
  {
   "cell_type": "code",
   "execution_count": 5,
   "metadata": {},
   "outputs": [],
   "source": [
    "#Merging the train and test data set to form a complete dataset using Pandas concat along row axis\n",
    "df = pd.concat([train_df,test_df] ,ignore_index =True ,axis = 0)\n",
    "df['Target'] = bckup_label\n",
    "train_df['Target'] = bckup_label\n"
   ]
  },
  {
   "cell_type": "code",
   "execution_count": 6,
   "metadata": {},
   "outputs": [
    {
     "name": "stdout",
     "output_type": "stream",
     "text": [
      "<class 'pandas.core.frame.DataFrame'>\n",
      "RangeIndex: 33413 entries, 0 to 33412\n",
      "Columns: 143 entries, Id to Target\n",
      "dtypes: float64(9), int64(129), object(5)\n",
      "memory usage: 36.5+ MB\n",
      "33413\n"
     ]
    }
   ],
   "source": [
    "#Step 1 : Check the info\n",
    "df.info()\n",
    "print (len(df))"
   ]
  },
  {
   "cell_type": "markdown",
   "metadata": {},
   "source": [
    "## Task 1: Identify the output variable."
   ]
  },
  {
   "cell_type": "code",
   "execution_count": 7,
   "metadata": {},
   "outputs": [
    {
     "data": {
      "text/html": [
       "<div>\n",
       "<style scoped>\n",
       "    .dataframe tbody tr th:only-of-type {\n",
       "        vertical-align: middle;\n",
       "    }\n",
       "\n",
       "    .dataframe tbody tr th {\n",
       "        vertical-align: top;\n",
       "    }\n",
       "\n",
       "    .dataframe thead th {\n",
       "        text-align: right;\n",
       "    }\n",
       "</style>\n",
       "<table border=\"1\" class=\"dataframe\">\n",
       "  <thead>\n",
       "    <tr style=\"text-align: right;\">\n",
       "      <th></th>\n",
       "      <th>Target</th>\n",
       "    </tr>\n",
       "  </thead>\n",
       "  <tbody>\n",
       "    <tr>\n",
       "      <td>0</td>\n",
       "      <td>4</td>\n",
       "    </tr>\n",
       "    <tr>\n",
       "      <td>1</td>\n",
       "      <td>4</td>\n",
       "    </tr>\n",
       "    <tr>\n",
       "      <td>2</td>\n",
       "      <td>4</td>\n",
       "    </tr>\n",
       "    <tr>\n",
       "      <td>3</td>\n",
       "      <td>4</td>\n",
       "    </tr>\n",
       "    <tr>\n",
       "      <td>4</td>\n",
       "      <td>4</td>\n",
       "    </tr>\n",
       "    <tr>\n",
       "      <td>...</td>\n",
       "      <td>...</td>\n",
       "    </tr>\n",
       "    <tr>\n",
       "      <td>9552</td>\n",
       "      <td>2</td>\n",
       "    </tr>\n",
       "    <tr>\n",
       "      <td>9553</td>\n",
       "      <td>2</td>\n",
       "    </tr>\n",
       "    <tr>\n",
       "      <td>9554</td>\n",
       "      <td>2</td>\n",
       "    </tr>\n",
       "    <tr>\n",
       "      <td>9555</td>\n",
       "      <td>2</td>\n",
       "    </tr>\n",
       "    <tr>\n",
       "      <td>9556</td>\n",
       "      <td>2</td>\n",
       "    </tr>\n",
       "  </tbody>\n",
       "</table>\n",
       "<p>9557 rows × 1 columns</p>\n",
       "</div>"
      ],
      "text/plain": [
       "      Target\n",
       "0          4\n",
       "1          4\n",
       "2          4\n",
       "3          4\n",
       "4          4\n",
       "...      ...\n",
       "9552       2\n",
       "9553       2\n",
       "9554       2\n",
       "9555       2\n",
       "9556       2\n",
       "\n",
       "[9557 rows x 1 columns]"
      ]
     },
     "execution_count": 7,
     "metadata": {},
     "output_type": "execute_result"
    }
   ],
   "source": [
    "#Target column denoting the level of poverty in homes will be the output variable\n",
    "\n",
    "train_df['Target'].to_frame()\n",
    "\n"
   ]
  },
  {
   "cell_type": "code",
   "execution_count": 8,
   "metadata": {},
   "outputs": [
    {
     "data": {
      "text/html": [
       "<div>\n",
       "<style scoped>\n",
       "    .dataframe tbody tr th:only-of-type {\n",
       "        vertical-align: middle;\n",
       "    }\n",
       "\n",
       "    .dataframe tbody tr th {\n",
       "        vertical-align: top;\n",
       "    }\n",
       "\n",
       "    .dataframe thead th {\n",
       "        text-align: right;\n",
       "    }\n",
       "</style>\n",
       "<table border=\"1\" class=\"dataframe\">\n",
       "  <thead>\n",
       "    <tr style=\"text-align: right;\">\n",
       "      <th></th>\n",
       "      <th>v2a1</th>\n",
       "      <th>hacdor</th>\n",
       "      <th>rooms</th>\n",
       "      <th>hacapo</th>\n",
       "      <th>v14a</th>\n",
       "      <th>refrig</th>\n",
       "      <th>v18q</th>\n",
       "      <th>v18q1</th>\n",
       "      <th>r4h1</th>\n",
       "      <th>r4h2</th>\n",
       "      <th>...</th>\n",
       "      <th>SQBescolari</th>\n",
       "      <th>SQBage</th>\n",
       "      <th>SQBhogar_total</th>\n",
       "      <th>SQBedjefe</th>\n",
       "      <th>SQBhogar_nin</th>\n",
       "      <th>SQBovercrowding</th>\n",
       "      <th>SQBdependency</th>\n",
       "      <th>SQBmeaned</th>\n",
       "      <th>agesq</th>\n",
       "      <th>Target</th>\n",
       "    </tr>\n",
       "  </thead>\n",
       "  <tbody>\n",
       "    <tr>\n",
       "      <td>count</td>\n",
       "      <td>9.150000e+03</td>\n",
       "      <td>33413.000000</td>\n",
       "      <td>33413.000000</td>\n",
       "      <td>33413.000000</td>\n",
       "      <td>33413.000000</td>\n",
       "      <td>33413.000000</td>\n",
       "      <td>33413.000000</td>\n",
       "      <td>7945.000000</td>\n",
       "      <td>33413.000000</td>\n",
       "      <td>33413.000000</td>\n",
       "      <td>...</td>\n",
       "      <td>33413.000000</td>\n",
       "      <td>33413.000000</td>\n",
       "      <td>33413.000000</td>\n",
       "      <td>33413.000000</td>\n",
       "      <td>33413.000000</td>\n",
       "      <td>33413.000000</td>\n",
       "      <td>33413.000000</td>\n",
       "      <td>33377.000000</td>\n",
       "      <td>33413.000000</td>\n",
       "      <td>9557.000000</td>\n",
       "    </tr>\n",
       "    <tr>\n",
       "      <td>mean</td>\n",
       "      <td>1.720308e+05</td>\n",
       "      <td>0.047077</td>\n",
       "      <td>4.955706</td>\n",
       "      <td>0.027055</td>\n",
       "      <td>0.993326</td>\n",
       "      <td>0.960464</td>\n",
       "      <td>0.237782</td>\n",
       "      <td>1.364003</td>\n",
       "      <td>0.407775</td>\n",
       "      <td>1.562595</td>\n",
       "      <td>...</td>\n",
       "      <td>74.384820</td>\n",
       "      <td>1653.786909</td>\n",
       "      <td>19.118966</td>\n",
       "      <td>53.919343</td>\n",
       "      <td>3.873851</td>\n",
       "      <td>3.474577</td>\n",
       "      <td>4.094081</td>\n",
       "      <td>101.104384</td>\n",
       "      <td>1653.786909</td>\n",
       "      <td>3.302292</td>\n",
       "    </tr>\n",
       "    <tr>\n",
       "      <td>std</td>\n",
       "      <td>1.550035e+05</td>\n",
       "      <td>0.211808</td>\n",
       "      <td>1.519659</td>\n",
       "      <td>0.162247</td>\n",
       "      <td>0.081423</td>\n",
       "      <td>0.194868</td>\n",
       "      <td>0.425731</td>\n",
       "      <td>0.714483</td>\n",
       "      <td>0.704245</td>\n",
       "      <td>1.003650</td>\n",
       "      <td>...</td>\n",
       "      <td>76.933222</td>\n",
       "      <td>1750.049285</td>\n",
       "      <td>17.737165</td>\n",
       "      <td>77.637447</td>\n",
       "      <td>6.898213</td>\n",
       "      <td>6.053864</td>\n",
       "      <td>12.939225</td>\n",
       "      <td>90.467735</td>\n",
       "      <td>1750.049285</td>\n",
       "      <td>1.009565</td>\n",
       "    </tr>\n",
       "    <tr>\n",
       "      <td>min</td>\n",
       "      <td>0.000000e+00</td>\n",
       "      <td>0.000000</td>\n",
       "      <td>1.000000</td>\n",
       "      <td>0.000000</td>\n",
       "      <td>0.000000</td>\n",
       "      <td>0.000000</td>\n",
       "      <td>0.000000</td>\n",
       "      <td>1.000000</td>\n",
       "      <td>0.000000</td>\n",
       "      <td>0.000000</td>\n",
       "      <td>...</td>\n",
       "      <td>0.000000</td>\n",
       "      <td>0.000000</td>\n",
       "      <td>1.000000</td>\n",
       "      <td>0.000000</td>\n",
       "      <td>0.000000</td>\n",
       "      <td>0.020408</td>\n",
       "      <td>0.000000</td>\n",
       "      <td>0.000000</td>\n",
       "      <td>0.000000</td>\n",
       "      <td>1.000000</td>\n",
       "    </tr>\n",
       "    <tr>\n",
       "      <td>25%</td>\n",
       "      <td>8.000000e+04</td>\n",
       "      <td>0.000000</td>\n",
       "      <td>4.000000</td>\n",
       "      <td>0.000000</td>\n",
       "      <td>1.000000</td>\n",
       "      <td>1.000000</td>\n",
       "      <td>0.000000</td>\n",
       "      <td>1.000000</td>\n",
       "      <td>0.000000</td>\n",
       "      <td>1.000000</td>\n",
       "      <td>...</td>\n",
       "      <td>16.000000</td>\n",
       "      <td>289.000000</td>\n",
       "      <td>9.000000</td>\n",
       "      <td>0.000000</td>\n",
       "      <td>0.000000</td>\n",
       "      <td>1.000000</td>\n",
       "      <td>0.111111</td>\n",
       "      <td>36.000000</td>\n",
       "      <td>289.000000</td>\n",
       "      <td>3.000000</td>\n",
       "    </tr>\n",
       "    <tr>\n",
       "      <td>50%</td>\n",
       "      <td>1.350000e+05</td>\n",
       "      <td>0.000000</td>\n",
       "      <td>5.000000</td>\n",
       "      <td>0.000000</td>\n",
       "      <td>1.000000</td>\n",
       "      <td>1.000000</td>\n",
       "      <td>0.000000</td>\n",
       "      <td>1.000000</td>\n",
       "      <td>0.000000</td>\n",
       "      <td>1.000000</td>\n",
       "      <td>...</td>\n",
       "      <td>36.000000</td>\n",
       "      <td>1024.000000</td>\n",
       "      <td>16.000000</td>\n",
       "      <td>36.000000</td>\n",
       "      <td>1.000000</td>\n",
       "      <td>2.250000</td>\n",
       "      <td>0.444444</td>\n",
       "      <td>75.111115</td>\n",
       "      <td>1024.000000</td>\n",
       "      <td>4.000000</td>\n",
       "    </tr>\n",
       "    <tr>\n",
       "      <td>75%</td>\n",
       "      <td>2.000000e+05</td>\n",
       "      <td>0.000000</td>\n",
       "      <td>6.000000</td>\n",
       "      <td>0.000000</td>\n",
       "      <td>1.000000</td>\n",
       "      <td>1.000000</td>\n",
       "      <td>0.000000</td>\n",
       "      <td>2.000000</td>\n",
       "      <td>1.000000</td>\n",
       "      <td>2.000000</td>\n",
       "      <td>...</td>\n",
       "      <td>121.000000</td>\n",
       "      <td>2601.000000</td>\n",
       "      <td>25.000000</td>\n",
       "      <td>81.000000</td>\n",
       "      <td>4.000000</td>\n",
       "      <td>4.000000</td>\n",
       "      <td>1.777778</td>\n",
       "      <td>132.250000</td>\n",
       "      <td>2601.000000</td>\n",
       "      <td>4.000000</td>\n",
       "    </tr>\n",
       "    <tr>\n",
       "      <td>max</td>\n",
       "      <td>2.852700e+06</td>\n",
       "      <td>1.000000</td>\n",
       "      <td>15.000000</td>\n",
       "      <td>1.000000</td>\n",
       "      <td>1.000000</td>\n",
       "      <td>1.000000</td>\n",
       "      <td>1.000000</td>\n",
       "      <td>6.000000</td>\n",
       "      <td>6.000000</td>\n",
       "      <td>8.000000</td>\n",
       "      <td>...</td>\n",
       "      <td>441.000000</td>\n",
       "      <td>9409.000000</td>\n",
       "      <td>169.000000</td>\n",
       "      <td>441.000000</td>\n",
       "      <td>100.000000</td>\n",
       "      <td>169.000000</td>\n",
       "      <td>64.000000</td>\n",
       "      <td>1369.000000</td>\n",
       "      <td>9409.000000</td>\n",
       "      <td>4.000000</td>\n",
       "    </tr>\n",
       "  </tbody>\n",
       "</table>\n",
       "<p>8 rows × 138 columns</p>\n",
       "</div>"
      ],
      "text/plain": [
       "               v2a1        hacdor         rooms        hacapo          v14a  \\\n",
       "count  9.150000e+03  33413.000000  33413.000000  33413.000000  33413.000000   \n",
       "mean   1.720308e+05      0.047077      4.955706      0.027055      0.993326   \n",
       "std    1.550035e+05      0.211808      1.519659      0.162247      0.081423   \n",
       "min    0.000000e+00      0.000000      1.000000      0.000000      0.000000   \n",
       "25%    8.000000e+04      0.000000      4.000000      0.000000      1.000000   \n",
       "50%    1.350000e+05      0.000000      5.000000      0.000000      1.000000   \n",
       "75%    2.000000e+05      0.000000      6.000000      0.000000      1.000000   \n",
       "max    2.852700e+06      1.000000     15.000000      1.000000      1.000000   \n",
       "\n",
       "             refrig          v18q        v18q1          r4h1          r4h2  \\\n",
       "count  33413.000000  33413.000000  7945.000000  33413.000000  33413.000000   \n",
       "mean       0.960464      0.237782     1.364003      0.407775      1.562595   \n",
       "std        0.194868      0.425731     0.714483      0.704245      1.003650   \n",
       "min        0.000000      0.000000     1.000000      0.000000      0.000000   \n",
       "25%        1.000000      0.000000     1.000000      0.000000      1.000000   \n",
       "50%        1.000000      0.000000     1.000000      0.000000      1.000000   \n",
       "75%        1.000000      0.000000     2.000000      1.000000      2.000000   \n",
       "max        1.000000      1.000000     6.000000      6.000000      8.000000   \n",
       "\n",
       "       ...   SQBescolari        SQBage  SQBhogar_total     SQBedjefe  \\\n",
       "count  ...  33413.000000  33413.000000    33413.000000  33413.000000   \n",
       "mean   ...     74.384820   1653.786909       19.118966     53.919343   \n",
       "std    ...     76.933222   1750.049285       17.737165     77.637447   \n",
       "min    ...      0.000000      0.000000        1.000000      0.000000   \n",
       "25%    ...     16.000000    289.000000        9.000000      0.000000   \n",
       "50%    ...     36.000000   1024.000000       16.000000     36.000000   \n",
       "75%    ...    121.000000   2601.000000       25.000000     81.000000   \n",
       "max    ...    441.000000   9409.000000      169.000000    441.000000   \n",
       "\n",
       "       SQBhogar_nin  SQBovercrowding  SQBdependency     SQBmeaned  \\\n",
       "count  33413.000000     33413.000000   33413.000000  33377.000000   \n",
       "mean       3.873851         3.474577       4.094081    101.104384   \n",
       "std        6.898213         6.053864      12.939225     90.467735   \n",
       "min        0.000000         0.020408       0.000000      0.000000   \n",
       "25%        0.000000         1.000000       0.111111     36.000000   \n",
       "50%        1.000000         2.250000       0.444444     75.111115   \n",
       "75%        4.000000         4.000000       1.777778    132.250000   \n",
       "max      100.000000       169.000000      64.000000   1369.000000   \n",
       "\n",
       "              agesq       Target  \n",
       "count  33413.000000  9557.000000  \n",
       "mean    1653.786909     3.302292  \n",
       "std     1750.049285     1.009565  \n",
       "min        0.000000     1.000000  \n",
       "25%      289.000000     3.000000  \n",
       "50%     1024.000000     4.000000  \n",
       "75%     2601.000000     4.000000  \n",
       "max     9409.000000     4.000000  \n",
       "\n",
       "[8 rows x 138 columns]"
      ]
     },
     "execution_count": 8,
     "metadata": {},
     "output_type": "execute_result"
    }
   ],
   "source": [
    "# Describe the central tendency, dispersion and shape of a dataset’s distribution,\n",
    "#eg. If mean and 50% are around same area then there are no outliers and distribution is normalized\n",
    "df.describe() \n"
   ]
  },
  {
   "cell_type": "markdown",
   "metadata": {},
   "source": [
    "## Task 2: Understand the type of Data"
   ]
  },
  {
   "cell_type": "code",
   "execution_count": 9,
   "metadata": {},
   "outputs": [
    {
     "data": {
      "text/html": [
       "<div>\n",
       "<style scoped>\n",
       "    .dataframe tbody tr th:only-of-type {\n",
       "        vertical-align: middle;\n",
       "    }\n",
       "\n",
       "    .dataframe tbody tr th {\n",
       "        vertical-align: top;\n",
       "    }\n",
       "\n",
       "    .dataframe thead th {\n",
       "        text-align: right;\n",
       "    }\n",
       "</style>\n",
       "<table border=\"1\" class=\"dataframe\">\n",
       "  <thead>\n",
       "    <tr style=\"text-align: right;\">\n",
       "      <th></th>\n",
       "      <th>Data Type of the Column</th>\n",
       "    </tr>\n",
       "  </thead>\n",
       "  <tbody>\n",
       "    <tr>\n",
       "      <td>Id</td>\n",
       "      <td>object</td>\n",
       "    </tr>\n",
       "    <tr>\n",
       "      <td>v2a1</td>\n",
       "      <td>float64</td>\n",
       "    </tr>\n",
       "    <tr>\n",
       "      <td>hacdor</td>\n",
       "      <td>int64</td>\n",
       "    </tr>\n",
       "    <tr>\n",
       "      <td>rooms</td>\n",
       "      <td>int64</td>\n",
       "    </tr>\n",
       "    <tr>\n",
       "      <td>hacapo</td>\n",
       "      <td>int64</td>\n",
       "    </tr>\n",
       "    <tr>\n",
       "      <td>...</td>\n",
       "      <td>...</td>\n",
       "    </tr>\n",
       "    <tr>\n",
       "      <td>SQBovercrowding</td>\n",
       "      <td>float64</td>\n",
       "    </tr>\n",
       "    <tr>\n",
       "      <td>SQBdependency</td>\n",
       "      <td>float64</td>\n",
       "    </tr>\n",
       "    <tr>\n",
       "      <td>SQBmeaned</td>\n",
       "      <td>float64</td>\n",
       "    </tr>\n",
       "    <tr>\n",
       "      <td>agesq</td>\n",
       "      <td>int64</td>\n",
       "    </tr>\n",
       "    <tr>\n",
       "      <td>Target</td>\n",
       "      <td>float64</td>\n",
       "    </tr>\n",
       "  </tbody>\n",
       "</table>\n",
       "<p>143 rows × 1 columns</p>\n",
       "</div>"
      ],
      "text/plain": [
       "                Data Type of the Column\n",
       "Id                               object\n",
       "v2a1                            float64\n",
       "hacdor                            int64\n",
       "rooms                             int64\n",
       "hacapo                            int64\n",
       "...                                 ...\n",
       "SQBovercrowding                 float64\n",
       "SQBdependency                   float64\n",
       "SQBmeaned                       float64\n",
       "agesq                             int64\n",
       "Target                          float64\n",
       "\n",
       "[143 rows x 1 columns]"
      ]
     },
     "execution_count": 9,
     "metadata": {},
     "output_type": "execute_result"
    }
   ],
   "source": [
    "df.Id.unique()     #1. Unique ID - String\n",
    "df.v2a1.unique()   #2. Monthly rent payment  - Numeric continuous\n",
    "df.hacdor.unique() #3. Overcrowding by bedrooms - One Hot Encoded - This can be considered binary as well.\n",
    "df.rooms.unique()  #4. number of all rooms in the house- Numeric discrete\n",
    "\n",
    "df.hacapo.unique() #5. =1 Overcrowding by rooms - One Hot Encoded - This can be considered binary as well.\n",
    "df.v14a.unique()   #6., =1 has bathroom in the household - Binary\n",
    "df.refrig.unique() #7. , =1 if the household has a refrigerator - Binary\n",
    "df.v18q.unique()   #8., owns a tablet - Binary\n",
    "df.v18q1.unique()  #9. number of tablets household owns -numeric discrete\n",
    "df.r4h1.unique()   #10. Males younger than 12 years of age - numeric discrete\n",
    "df.r4h2.unique()   #11. Males 12 years of age and older- numeric discrete\n",
    "df.r4h3.unique()   #12. Total males in the household -  numeric discrete\n",
    "df.r4m1.unique()   #13. Females younger than 12 years of age -  numeric discrete \n",
    "df.r4m2.unique()   #14. Females 12 years of age and older -  numeric discrete\n",
    "df.r4m3.unique()   #15. Total females in the household -  numeric discrete\n",
    "df.r4t1.unique()   #16., persons younger than 12 years of age -  numeric discrete\n",
    "df.r4t2.unique()   #17., persons 12 years of age and older - numeric discrete\n",
    "df.r4t3.unique()   #18., Total persons in the household -  numeric discrete\n",
    "df.tamhog.unique() #19., size of the household -  numeric discrete\n",
    "df.tamviv.unique() #20., number of persons living in the household - numeric discrete\n",
    "df.escolari.unique()#21., years of schooling - numeric discrete\n",
    "df.rez_esc.unique()#22. Years behind in school -numeric continuous\n",
    "df.hhsize.unique() #23 household size - numeric discrete\n",
    "df.paredblolad.unique()#24, if predominant material on the outside wall is block or brick - binary\n",
    "\n",
    "# Similar to 24 rows from 25 to 95 are One Hot Encoded data (1 or 0) - This can be considered binary as well.\n",
    "df.idhogar.unique()#96, Household level identifier - String value\n",
    "    \n",
    "df.hogar_nin.unique()#97, Number of children 0 to 19 in household - numeric discrete\n",
    "df.hogar_adul.unique()#98 Number of adults in household - numeric discrete\n",
    "df.hogar_mayor.unique() #99 of individuals 65+ in the household - numeric discrete\n",
    "df.hogar_total.unique()#100 of total individuals in the household - numeric discrete\n",
    "\n",
    "df.dependency.unique()  #101, Cleaning Required Dependency rate, calculated = (number of members of the household younger than 19 or older than 64)/(number of member of household between 19 and 64)\n",
    "df.edjefe.unique()      #102 , Cleaning Required years of education of male head of household, based on the interaction of escolari (years of education), head of household and gender, yes=1 and no=0 \n",
    "df.edjefa.unique()      #103, Cleaning Required years of education of female head of household, based on the interaction of escolari (years of education), head of household and gender, yes=1 and no=0 \n",
    "\n",
    "df.meaneduc.unique()    #104,average years of education for adults (18+) - numeric continuous\n",
    "# Similar to 24 rows from [105 to 113] are One Hot Encoding data (1 or 0) - This can be considered binary as well.\n",
    "df.bedrooms.unique()    #114. number of bedroom - numeric discrete\n",
    "df.overcrowding.unique()#115 -persons per room numeric continuous\n",
    "\n",
    "# Similar to 24 rows from [116 to 120] are One Hot data (1 or 0)\n",
    "# [121 to 123] entries are binary\n",
    "df.computer.unique()    #121.  =1 if the household has notebook or desktop computer - binary\n",
    "df.television.unique()  #122. =1 if the household has TV -binary\n",
    "df.mobilephone.unique() #123.  =1 if mobile phone -binary\n",
    "\n",
    "df.qmobilephone.unique()#124.  # of mobile phone - numeric discrete\n",
    "\n",
    "# Similar to 24 rows from [125 to 130] are Lugar Region One Hot Encoded data (1 or 0) - This can be considered binary as well.\n",
    "df.area1.unique()       #131. =1 zona urbana  Binary\n",
    "df.area2.unique()       #132. =2 zona rural Binary\n",
    "df.age.unique()         #133. Age in years - numeric discrete\n",
    "df.SQBescolari.unique() #134.escolari squared  - numeric continuous\n",
    "#Similar to 134 data from 135 to 142 are  numeric continuous\n",
    "\n",
    "df.dtypes.to_frame(name = 'Data Type of the Column')\n"
   ]
  },
  {
   "cell_type": "code",
   "execution_count": 10,
   "metadata": {
    "scrolled": true
   },
   "outputs": [
    {
     "data": {
      "image/png": "[encoded data removed]",
      "text/plain": [
       "<Figure size 576x576 with 1 Axes>"
      ]
     },
     "metadata": {
      "needs_background": "light"
     },
     "output_type": "display_data"
    }
   ],
   "source": [
    "\n",
    "df1 = df['Target'].value_counts().sort_index().plot(kind='bar',figsize = (8, 8), color='green')\n",
    "\n",
    "plt.title('Levels of Poverty - Target \\n')\n",
    "plt.show()"
   ]
  },
  {
   "cell_type": "code",
   "execution_count": 11,
   "metadata": {},
   "outputs": [
    {
     "data": {
      "text/plain": [
       "array([0.  , 8.  , 1.  , 3.  , 0.5 , 0.25, 2.  , 0.67, 0.33, 1.5 , 0.4 ,\n",
       "       0.75, 1.25, 0.2 , 2.5 , 1.2 , 4.  , 1.33, 2.25, 0.22, 5.  , 0.83,\n",
       "       0.8 , 6.  , 3.5 , 1.67, 0.29, 1.75, 0.71, 0.17, 0.6 , 0.38, 0.14,\n",
       "       0.86, 0.12, 2.33, 7.  , 3.33])"
      ]
     },
     "execution_count": 11,
     "metadata": {},
     "output_type": "execute_result"
    }
   ],
   "source": [
    "#Let us clean the below Object type data\n",
    "df.dependency.unique()  #101, Cleaning Required Dependency rate, calculated = (number of members of the household younger than 19 or older than 64)/(number of member of household between 19 and 64)\n",
    "df.edjefe.unique()      #102 , Cleaning Required years of education of male head of household, based on the interaction of escolari (years of education), head of household and gender, yes=1 and no=0 \n",
    "df.edjefa.unique()      #103, Cleaning Required years of education of female head of household, based on the interaction of escolari (years of education), head of household and gender, yes=1 and no=0 \n",
    "df.dependency.replace(['yes','no'], [1,0], inplace =True)\n",
    "df.edjefe.replace(['yes','no'], [1,0], inplace =True)\n",
    "df.edjefa.replace(['yes','no'], [1,0], inplace =True)\n",
    "df.dependency=round(df.dependency.astype(np.float64),2)\n",
    "df.edjefe=round(df.edjefe.astype(np.float64),2)\n",
    "df.edjefa=round(df.edjefa.astype(np.float64),2)\n",
    "df.dependency.unique()"
   ]
  },
  {
   "cell_type": "markdown",
   "metadata": {},
   "source": [
    "## Task 3: Check if there are any biases in your dataset."
   ]
  },
  {
   "cell_type": "code",
   "execution_count": 12,
   "metadata": {},
   "outputs": [],
   "source": [
    "#Handling Outliers for all numeric columns\n",
    "#Numeric columns - Salary\n",
    "#To remove Outlier we can use 1.5 IQR Rule\n",
    "def outlierDetection(datacolumn):\n",
    "    #Sort the data in ascending order\n",
    "    #GET Q1 and Q3\n",
    "    sorted(datacolumn)\n",
    "    Q1,Q3 = np.percentile(datacolumn, [25,75])\n",
    "    \n",
    "    #Calc IQR\n",
    "    IQR = Q3 - Q1\n",
    "    \n",
    "    #Calc LowerRange\n",
    "    lr = Q1 - (1.5 * IQR)\n",
    "    #Calc Upper Range\n",
    "    ur = Q3 + (1.5 * IQR)\n",
    "    #return 1,2\n",
    "    return lr,ur"
   ]
  },
  {
   "cell_type": "code",
   "execution_count": 13,
   "metadata": {},
   "outputs": [
    {
     "name": "stdout",
     "output_type": "stream",
     "text": [
      "['v2a1', 'rooms', 'v18q1', 'r4h1', 'r4h2', 'r4h3', 'r4m1', 'r4m2', 'r4m3', 'r4t1', 'r4t2', 'r4t3', 'tamhog', 'tamviv', 'escolari', 'rez_esc', 'hhsize', 'hogar_nin', 'hogar_adul', 'hogar_mayor', 'hogar_total', 'meaneduc', 'bedrooms', 'overcrowding', 'SQBescolari', 'SQBage', 'SQBhogar_total', 'SQBedjefe', 'SQBhogar_nin', 'SQBovercrowding', 'SQBdependency', 'SQBmeaned', 'agesq']\n",
      "Col 'v2a1' \n",
      "Col 'rooms' \n",
      "Outlier Detected for 'rooms' \n",
      "Col 'v18q1' \n",
      "Col 'r4h1' \n",
      "Outlier Detected for 'r4h1' \n",
      "Col 'r4h2' \n",
      "Outlier Detected for 'r4h2' \n",
      "Col 'r4h3' \n",
      "Outlier Detected for 'r4h3' \n",
      "Col 'r4m1' \n",
      "Outlier Detected for 'r4m1' \n",
      "Col 'r4m2' \n",
      "Outlier Detected for 'r4m2' \n",
      "Col 'r4m3' \n",
      "Outlier Detected for 'r4m3' \n",
      "Col 'r4t1' \n",
      "Outlier Detected for 'r4t1' \n",
      "Col 'r4t2' \n",
      "Outlier Detected for 'r4t2' \n",
      "Col 'r4t3' \n",
      "Outlier Detected for 'r4t3' \n",
      "Col 'tamhog' \n",
      "Outlier Detected for 'tamhog' \n",
      "Col 'tamviv' \n",
      "Outlier Detected for 'tamviv' \n",
      "Col 'escolari' \n",
      "Col 'rez_esc' \n",
      "Col 'hhsize' \n",
      "Outlier Detected for 'hhsize' \n",
      "Col 'hogar_nin' \n",
      "Outlier Detected for 'hogar_nin' \n",
      "Col 'hogar_adul' \n",
      "Outlier Detected for 'hogar_adul' \n",
      "Col 'hogar_mayor' \n",
      "Outlier Detected for 'hogar_mayor' \n",
      "Col 'hogar_total' \n",
      "Outlier Detected for 'hogar_total' \n",
      "Col 'meaneduc' \n",
      "Col 'bedrooms' \n",
      "Outlier Detected for 'bedrooms' \n",
      "Col 'overcrowding' \n",
      "Outlier Detected for 'overcrowding' \n",
      "Col 'SQBescolari' \n",
      "Outlier Detected for 'SQBescolari' \n",
      "Col 'SQBage' \n",
      "Outlier Detected for 'SQBage' \n",
      "Col 'SQBhogar_total' \n",
      "Outlier Detected for 'SQBhogar_total' \n",
      "Col 'SQBedjefe' \n",
      "Outlier Detected for 'SQBedjefe' \n",
      "Col 'SQBhogar_nin' \n",
      "Outlier Detected for 'SQBhogar_nin' \n",
      "Col 'SQBovercrowding' \n",
      "Outlier Detected for 'SQBovercrowding' \n",
      "Col 'SQBdependency' \n",
      "Outlier Detected for 'SQBdependency' \n",
      "Col 'SQBmeaned' \n",
      "Col 'agesq' \n",
      "Outlier Detected for 'agesq' \n"
     ]
    }
   ],
   "source": [
    "#Handle Outlier Detection for numeric columns\n",
    "cols_list = df.columns.to_list()\n",
    "numeric_cols = [cols_list[1]] + [cols_list[3]] + cols_list[8:23] + cols_list[96:100] +[cols_list[103]]+cols_list[113:115] + cols_list[133:142]\n",
    "#numeric_cols = ['rooms']\n",
    "print (numeric_cols)\n",
    "#numeric_cols = ['v2a1', 'rooms', 'v18q1', 'r4h1', 'r4h2', 'r4h3', 'r4m1', 'r4m2', 'r4m3', 'r4t1', 'r4t2', 'r4t3', 'tamhog', 'tamviv', 'escolari', 'rez_esc', 'hhsize', 'hogar_nin', 'hogar_adul', 'hogar_mayor', 'hogar_total', 'meaneduc', 'bedrooms', 'overcrowding', 'SQBescolari', 'SQBage', 'SQBhogar_total', 'SQBedjefe', 'SQBhogar_nin', 'SQBovercrowding', 'SQBdependency', 'SQBmeaned', 'agesq']\n",
    "#numeric_cols = ['r4h1', 'r4m1', 'escolari']\n",
    "for column in numeric_cols:\n",
    "    print (\"Col %r \" % column)\n",
    "    try:\n",
    "        lowerRange,upperRange = outlierDetection(df[column])\n",
    "    except:\n",
    "        print (\"Exception reached for col %r \" % column)\n",
    "    outlier_upper = df[column] > upperRange \n",
    "    outlier_lower = df[column] < lowerRange\n",
    "    if outlier_upper.any() or outlier_lower.any():\n",
    "        print (\"Outlier Detected for %r \" % column)\n",
    "        #print (\"Length of df before dropping %r \" % len(df))\n",
    "        #Please uncomment the below lines if you want to drop outlier rows\n",
    "        #df.drop(df[(df[column] > upperRange) | (df[column] < lowerRange)].index , inplace=True)\n",
    "        #print (\"Length of df after dropping %r \" % len(df))\n",
    "        df.set_index(np.arange(0,len(df)) , inplace=True)\n",
    "\n",
    "        \n",
    "#Conclusion: Outlier has been detected for few of the columns as displayed"
   ]
  },
  {
   "cell_type": "code",
   "execution_count": 14,
   "metadata": {},
   "outputs": [
    {
     "data": {
      "image/png": "[encoded data removed]",
      "text/plain": [
       "<Figure size 1440x360 with 18 Axes>"
      ]
     },
     "metadata": {
      "needs_background": "light"
     },
     "output_type": "display_data"
    }
   ],
   "source": [
    "import matplotlib.pyplot as plt\n",
    "num_index =[]\n",
    "num_index.extend(range(8,23))\n",
    "\n",
    "box_df = df.iloc[:,num_index]\n",
    "\n",
    "box_df.plot(kind='box', figsize= (20,5),subplots=True, layout=(1,18))\n",
    "plt.show() # Plots indicate that there are outliers"
   ]
  },
  {
   "cell_type": "markdown",
   "metadata": {},
   "source": [
    "## Task 4:Check whether all members of the house have the same poverty level."
   ]
  },
  {
   "cell_type": "code",
   "execution_count": 15,
   "metadata": {},
   "outputs": [
    {
     "name": "stdout",
     "output_type": "stream",
     "text": [
      " The no of households that do not have same poverty level are 85\n"
     ]
    }
   ],
   "source": [
    "#First do group by on #idhogar - Household level identifier\n",
    "#Check for no of unique elements of Target variable..ie Poverty Level for each household\n",
    "#Check if this number is not equal to 1 ..ie this would indicate that there are more than one level\n",
    "#of poverty within the same household\n",
    "#Print the sum of these entries. This would give the no of households that do not have the same poverty level\n",
    "households_not_same_level = (train_df.groupby(['idhogar'])['Target'].nunique()!=1).sum()\n",
    "print (\" The no of households that do not have same poverty level are {}\".format(households_not_same_level))\n",
    "    "
   ]
  },
  {
   "cell_type": "markdown",
   "metadata": {},
   "source": [
    "## Task 5: Check if there is a house without a family head"
   ]
  },
  {
   "cell_type": "code",
   "execution_count": 16,
   "metadata": {},
   "outputs": [
    {
     "name": "stdout",
     "output_type": "stream",
     "text": [
      " The no of households that do not have a family head are 15\n"
     ]
    }
   ],
   "source": [
    "#First do group by on #idhogar - Household level identifier\n",
    "#Check for max value of 'parentesco1' variable.. =1 if household head.\n",
    "#Check if this max is not equal to 1 ..ie this would indicate that there is no family head\n",
    "# within the same household. Print the sum of these entries.\n",
    "# This would give the no of households that do not have the same poverty level\n",
    "households_without_head = (train_df.groupby(['idhogar'])['parentesco1'].max()!=1).sum()\n",
    "print (\" The no of households that do not have a family head are {}\".format(households_without_head))\n",
    "    "
   ]
  },
  {
   "cell_type": "markdown",
   "metadata": {},
   "source": [
    "## Task 6: Set poverty level of the members and the head of the house within a family."
   ]
  },
  {
   "cell_type": "code",
   "execution_count": 17,
   "metadata": {},
   "outputs": [
    {
     "name": "stdout",
     "output_type": "stream",
     "text": [
      "There are 85 households where the family members do not all have the same target.\n",
      "There are 0 households where the family members do not all have the same target.All members have been set to same level\n"
     ]
    }
   ],
   "source": [
    "\n",
    "# Groupby the household and figure out the number of unique values\n",
    "equal_level = train_df.groupby('idhogar')['Target'].apply(lambda x: x.nunique() == 1)\n",
    "\n",
    "# Households where targets are not all equal\n",
    "diff_level = equal_level[equal_level != True]\n",
    "print('There are {} households where the family members do not all have the same target.'.format(len(diff_level)))\n",
    "\n",
    "# Iterate through each household\n",
    "for household in diff_level.index:\n",
    "    # Find the correct label (for the head of household)\n",
    "    label = int(train_df[(train_df['idhogar'] == household) & (train_df['parentesco1'] == 1.0)]['Target'])\n",
    "    \n",
    "    # Set the correct label for all members in the household\n",
    "    train_df.loc[train_df['idhogar'] == household, 'Target'] = label\n",
    "    \n",
    "# Groupby the household and figure out the number of unique values\n",
    "equal_level = train_df.groupby('idhogar')['Target'].apply(lambda x: x.nunique() == 1)\n",
    "\n",
    "# Households where targets are not all equal\n",
    "diff_level = equal_level[equal_level != True]\n",
    "print('There are {} households where the family members do not all have the same target.All members have been set to same level'.format(len(diff_level)))\n",
    "\n"
   ]
  },
  {
   "cell_type": "markdown",
   "metadata": {},
   "source": [
    "## Task 7: Count how many null values are existing in columns."
   ]
  },
  {
   "cell_type": "code",
   "execution_count": 18,
   "metadata": {},
   "outputs": [
    {
     "data": {
      "text/html": [
       "<div>\n",
       "<style scoped>\n",
       "    .dataframe tbody tr th:only-of-type {\n",
       "        vertical-align: middle;\n",
       "    }\n",
       "\n",
       "    .dataframe tbody tr th {\n",
       "        vertical-align: top;\n",
       "    }\n",
       "\n",
       "    .dataframe thead th {\n",
       "        text-align: right;\n",
       "    }\n",
       "</style>\n",
       "<table border=\"1\" class=\"dataframe\">\n",
       "  <thead>\n",
       "    <tr style=\"text-align: right;\">\n",
       "      <th></th>\n",
       "      <th>No of missing values in Train</th>\n",
       "    </tr>\n",
       "  </thead>\n",
       "  <tbody>\n",
       "    <tr>\n",
       "      <td>rez_esc</td>\n",
       "      <td>7928</td>\n",
       "    </tr>\n",
       "    <tr>\n",
       "      <td>v18q1</td>\n",
       "      <td>7342</td>\n",
       "    </tr>\n",
       "    <tr>\n",
       "      <td>v2a1</td>\n",
       "      <td>6860</td>\n",
       "    </tr>\n",
       "    <tr>\n",
       "      <td>meaneduc</td>\n",
       "      <td>5</td>\n",
       "    </tr>\n",
       "    <tr>\n",
       "      <td>SQBmeaned</td>\n",
       "      <td>5</td>\n",
       "    </tr>\n",
       "  </tbody>\n",
       "</table>\n",
       "</div>"
      ],
      "text/plain": [
       "           No of missing values in Train\n",
       "rez_esc                             7928\n",
       "v18q1                               7342\n",
       "v2a1                                6860\n",
       "meaneduc                               5\n",
       "SQBmeaned                              5"
      ]
     },
     "execution_count": 18,
     "metadata": {},
     "output_type": "execute_result"
    }
   ],
   "source": [
    "train_df.isna().sum(axis=0).sort_values(ascending=False).head().to_frame(name='No of missing values in Train')"
   ]
  },
  {
   "cell_type": "code",
   "execution_count": 19,
   "metadata": {},
   "outputs": [
    {
     "data": {
      "text/html": [
       "<div>\n",
       "<style scoped>\n",
       "    .dataframe tbody tr th:only-of-type {\n",
       "        vertical-align: middle;\n",
       "    }\n",
       "\n",
       "    .dataframe tbody tr th {\n",
       "        vertical-align: top;\n",
       "    }\n",
       "\n",
       "    .dataframe thead th {\n",
       "        text-align: right;\n",
       "    }\n",
       "</style>\n",
       "<table border=\"1\" class=\"dataframe\">\n",
       "  <thead>\n",
       "    <tr style=\"text-align: right;\">\n",
       "      <th></th>\n",
       "      <th>No of missing values in Test</th>\n",
       "    </tr>\n",
       "  </thead>\n",
       "  <tbody>\n",
       "    <tr>\n",
       "      <td>rez_esc</td>\n",
       "      <td>19653</td>\n",
       "    </tr>\n",
       "    <tr>\n",
       "      <td>v18q1</td>\n",
       "      <td>18126</td>\n",
       "    </tr>\n",
       "    <tr>\n",
       "      <td>v2a1</td>\n",
       "      <td>17403</td>\n",
       "    </tr>\n",
       "    <tr>\n",
       "      <td>SQBmeaned</td>\n",
       "      <td>31</td>\n",
       "    </tr>\n",
       "    <tr>\n",
       "      <td>meaneduc</td>\n",
       "      <td>31</td>\n",
       "    </tr>\n",
       "    <tr>\n",
       "      <td>public</td>\n",
       "      <td>0</td>\n",
       "    </tr>\n",
       "    <tr>\n",
       "      <td>sanitario2</td>\n",
       "      <td>0</td>\n",
       "    </tr>\n",
       "  </tbody>\n",
       "</table>\n",
       "</div>"
      ],
      "text/plain": [
       "            No of missing values in Test\n",
       "rez_esc                            19653\n",
       "v18q1                              18126\n",
       "v2a1                               17403\n",
       "SQBmeaned                             31\n",
       "meaneduc                              31\n",
       "public                                 0\n",
       "sanitario2                             0"
      ]
     },
     "execution_count": 19,
     "metadata": {},
     "output_type": "execute_result"
    }
   ],
   "source": [
    "test_df.isna().sum().sort_values(ascending = False).head(7).to_frame(name='No of missing values in Test')"
   ]
  },
  {
   "cell_type": "code",
   "execution_count": 20,
   "metadata": {},
   "outputs": [
    {
     "data": {
      "text/plain": [
       "Series([], Name: SQBmeaned, dtype: int64)"
      ]
     },
     "execution_count": 20,
     "metadata": {},
     "output_type": "execute_result"
    }
   ],
   "source": [
    "train_df[train_df['meaneduc'].isna()]['SQBmeaned'].value_counts() #Indicates that there is a strong dependency on thse two\n",
    "test_df[test_df['meaneduc'].isna()]['SQBmeaned'].value_counts() #Indicates that there is a strong dependency on thse two\n"
   ]
  },
  {
   "cell_type": "markdown",
   "metadata": {},
   "source": [
    "#### Missing Value Treatment 1: v18q1 , number of tablets household owns "
   ]
  },
  {
   "cell_type": "code",
   "execution_count": 21,
   "metadata": {},
   "outputs": [
    {
     "name": "stdout",
     "output_type": "stream",
     "text": [
      "Total missing values in train for  v18q1 , number of tablets household owns 7342\n",
      "Total missing values in  test for v18q1 , number of tablets household owns 18126\n",
      "v18q var..ie Members in train who own tablet or not when there are NA vals in v18q  [0]\n",
      "v18q var..ie Members in test who own tablet or not when there are NA vals in v18q [0] \n"
     ]
    }
   ],
   "source": [
    "print (\"Total missing values in train for  v18q1 , number of tablets household owns %r\" % train_df.v18q1.isna().sum())\n",
    "print (\"Total missing values in  test for v18q1 , number of tablets household owns %r\" % test_df.v18q1.isna().sum())\n",
    "\n",
    "#Let us see if we can correlate to the variable v18q, owns a tablet \n",
    "print (\"v18q var..ie Members in train who own tablet or not when there are NA vals in v18q  {}\".format(train_df[train_df.v18q1.isna()]['v18q'].unique())) \n",
    "print (\"v18q var..ie Members in test who own tablet or not when there are NA vals in v18q {} \".format(test_df[test_df.v18q1.isna()]['v18q'].unique())) \n",
    "\n",
    "#Conclusion: Since missing values in number of tablets (v18q1) corresponds to the fact that those members \n",
    "#did not own a tablet itself in the first place (as referenced by v18q) , lets replace na with 0\n",
    "train_df.v18q1.fillna(0, inplace=True)\n",
    "test_df.v18q1.fillna(0, inplace=True)"
   ]
  },
  {
   "cell_type": "markdown",
   "metadata": {},
   "source": [
    "#### Missing Value Treatment 2: rez_esc Years behind in school"
   ]
  },
  {
   "cell_type": "code",
   "execution_count": 22,
   "metadata": {},
   "outputs": [
    {
     "name": "stdout",
     "output_type": "stream",
     "text": [
      "Total missing values in train rez_esc Years behind in school  7928\n",
      "count    1629.000000\n",
      "mean       12.258441\n",
      "std         3.218325\n",
      "min         7.000000\n",
      "25%         9.000000\n",
      "50%        12.000000\n",
      "75%        15.000000\n",
      "max        17.000000\n",
      "Name: age, dtype: float64\n",
      "23    189\n",
      "20    179\n",
      "18    179\n",
      "30    178\n",
      "19    170\n",
      "22    166\n",
      "21    163\n",
      "28    159\n",
      "27    157\n",
      "24    156\n",
      "Name: age, dtype: int64\n",
      "Total missing values in test  rez_esc Years behind in school  19653\n",
      "count    4203.000000\n",
      "mean       12.157507\n",
      "std         3.190886\n",
      "min         7.000000\n",
      "25%         9.000000\n",
      "50%        12.000000\n",
      "75%        15.000000\n",
      "max        17.000000\n",
      "Name: age, dtype: float64\n",
      "20    412\n",
      "18    411\n",
      "32    409\n",
      "22    408\n",
      "25    398\n",
      "19    396\n",
      "30    392\n",
      "23    392\n",
      "24    386\n",
      "21    385\n",
      "Name: age, dtype: int64\n"
     ]
    }
   ],
   "source": [
    "print (\"Total missing values in train rez_esc Years behind in school  %r\" % train_df.rez_esc.isna().sum())\n",
    "\n",
    "print (train_df[train_df['rez_esc'].notna()]['age'].describe()) #- indicates that the age of memebers must be between 7 and 17\n",
    "print (train_df[train_df['rez_esc'].isna()]['age'].value_counts().head(10)) #- most of them are not between 7 and 17 - completed education. So years left behind will be 0.\n",
    "train_df.rez_esc.fillna(0,inplace=True)\n",
    "\n",
    "print (\"Total missing values in test  rez_esc Years behind in school  %r\" % test_df.rez_esc.isna().sum())\n",
    "\n",
    "print (test_df[test_df['rez_esc'].notna()]['age'].describe()) #- indicates that the age of memebers must be between 7 and 17\n",
    "print (test_df[test_df['rez_esc'].isna()]['age'].value_counts().head(10)) #- most of them are not between 7 and 17 - completed education. So years left behind will be 0.\n",
    "test_df.rez_esc.fillna(0,inplace=True)\n"
   ]
  },
  {
   "cell_type": "markdown",
   "metadata": {},
   "source": [
    "#### Missing Value Treatment 3: v2a1 - monthly rent treatment"
   ]
  },
  {
   "cell_type": "code",
   "execution_count": 23,
   "metadata": {},
   "outputs": [
    {
     "name": "stdout",
     "output_type": "stream",
     "text": [
      "Total missing values in TRAIN v2a1- # monthly rent payment 6860\n",
      "1    5911\n",
      "0     949\n",
      "Name: tipovivi1, dtype: int64\n",
      "0    6860\n",
      "Name: tipovivi2, dtype: int64\n",
      "0    6860\n",
      "Name: tipovivi3, dtype: int64\n",
      "0    6697\n",
      "1     163\n",
      "Name: tipovivi4, dtype: int64\n",
      "0    6074\n",
      "1     786\n",
      "Name: tipovivi5, dtype: int64\n",
      "Total missing values in TEST v2a1- # monthly rent payment 17403\n",
      "1    14933\n",
      "0     2470\n",
      "Name: tipovivi1, dtype: int64\n",
      "0    17403\n",
      "Name: tipovivi2, dtype: int64\n",
      "0    17403\n",
      "Name: tipovivi3, dtype: int64\n",
      "0    16969\n",
      "1      434\n",
      "Name: tipovivi4, dtype: int64\n",
      "0    15367\n",
      "1     2036\n",
      "Name: tipovivi5, dtype: int64\n"
     ]
    }
   ],
   "source": [
    "# tipovivi1, =1 own and fully paid house \n",
    "# tipovivi2, \"=1 own,  paying in installments\n",
    "# tipovivi3, =1 rented \n",
    "# tipovivi4, =1 precarious \n",
    "# tipovivi5, \"=1 other(assigned,  borrowed) \n",
    "print (\"Total missing values in TRAIN v2a1- # monthly rent payment %r\" % train_df.v2a1.isna().sum())\n",
    "\n",
    "print (train_df[train_df.v2a1.isna()]['tipovivi1'].value_counts())  #-indicates that there are 5911 are own house when v2a1 has na!\n",
    "print (train_df[train_df.v2a1.isna()]['tipovivi2'].value_counts())  #-indicates that there are no members with own paying in installments when v2a1 has na\n",
    "print (train_df[train_df.v2a1.isna()]['tipovivi3'].value_counts())  #-indicates that there are no rented members when v2a1 has na!\n",
    "print (train_df[train_df.v2a1.isna()]['tipovivi4'].value_counts())  #-indicates that there are 163 members who live in precarious houses when v2a1 has na!\n",
    "print (train_df[train_df.v2a1.isna()]['tipovivi5'].value_counts())  #-indicates that there are 786 memebers assigned / borrowed when v2a1 has na!\n",
    "\n",
    "#Since from the above inferences , we can fill (5911)  + (163) members of v2a1 with 0 since they have either fully paid own house or precarious\n",
    "train_df.v2a1.loc[train_df.v2a1.isna() & train_df.tipovivi1 ==1] = 0\n",
    "train_df.v2a1.loc[train_df.v2a1.isna() & train_df.tipovivi4 ==1] = 0\n",
    "#Replace the rest with mean as we are dealing with numeric continuous data\n",
    "train_df.v2a1.fillna(train_df.v2a1.mean(), inplace =True) \n",
    "\n",
    "\n",
    "# tipovivi1, =1 own and fully paid house \n",
    "# tipovivi2, \"=1 own,  paying in installments\n",
    "# tipovivi3, =1 rented \n",
    "# tipovivi4, =1 precarious \n",
    "# tipovivi5, \"=1 other(assigned,  borrowed) \n",
    "print (\"Total missing values in TEST v2a1- # monthly rent payment %r\" % test_df.v2a1.isna().sum())\n",
    "\n",
    "print (test_df[test_df.v2a1.isna()]['tipovivi1'].value_counts())  #-indicates that there are 5911 are own house when v2a1 has na!\n",
    "print (test_df[test_df.v2a1.isna()]['tipovivi2'].value_counts())  #-indicates that there are no members with own paying in installments when v2a1 has na\n",
    "print (test_df[test_df.v2a1.isna()]['tipovivi3'].value_counts())  #-indicates that there are no rented members when v2a1 has na!\n",
    "print (test_df[test_df.v2a1.isna()]['tipovivi4'].value_counts())  #-indicates that there are 163 members who live in precarious houses when v2a1 has na!\n",
    "print (test_df[test_df.v2a1.isna()]['tipovivi5'].value_counts())  #-indicates that there are 786 memebers assigned / borrowed when v2a1 has na!\n",
    "\n",
    "#Since from the above inferences , we can fill (14933)  + (434) members of v2a1 with 0 since they have either fully paid own house or precarious\n",
    "test_df.v2a1.loc[test_df.v2a1.isna() & test_df.tipovivi1 ==1] = 0\n",
    "test_df.v2a1.loc[test_df.v2a1.isna() & test_df.tipovivi4 ==1] = 0\n",
    "#Replace the rest with mean as we are dealing with numeric continuous data\n",
    "test_df.v2a1.fillna(test_df.v2a1.mean(), inplace =True) "
   ]
  },
  {
   "cell_type": "markdown",
   "metadata": {},
   "source": [
    "#### Final Missing Value treatment as the SQBmeaned and meaneduc are also numeric continuous"
   ]
  },
  {
   "cell_type": "code",
   "execution_count": 24,
   "metadata": {},
   "outputs": [],
   "source": [
    "train_df.fillna (train_df.mean(), inplace = True)\n",
    "test_df.fillna (train_df.mean(), inplace = True)"
   ]
  },
  {
   "cell_type": "code",
   "execution_count": 25,
   "metadata": {},
   "outputs": [
    {
     "data": {
      "text/html": [
       "<div>\n",
       "<style scoped>\n",
       "    .dataframe tbody tr th:only-of-type {\n",
       "        vertical-align: middle;\n",
       "    }\n",
       "\n",
       "    .dataframe tbody tr th {\n",
       "        vertical-align: top;\n",
       "    }\n",
       "\n",
       "    .dataframe thead th {\n",
       "        text-align: right;\n",
       "    }\n",
       "</style>\n",
       "<table border=\"1\" class=\"dataframe\">\n",
       "  <thead>\n",
       "    <tr style=\"text-align: right;\">\n",
       "      <th></th>\n",
       "      <th>No of missing values in TRAIN after cleaning</th>\n",
       "    </tr>\n",
       "  </thead>\n",
       "  <tbody>\n",
       "    <tr>\n",
       "      <td>Target</td>\n",
       "      <td>0</td>\n",
       "    </tr>\n",
       "    <tr>\n",
       "      <td>abastaguano</td>\n",
       "      <td>0</td>\n",
       "    </tr>\n",
       "    <tr>\n",
       "      <td>sanitario2</td>\n",
       "      <td>0</td>\n",
       "    </tr>\n",
       "    <tr>\n",
       "      <td>sanitario1</td>\n",
       "      <td>0</td>\n",
       "    </tr>\n",
       "    <tr>\n",
       "      <td>coopele</td>\n",
       "      <td>0</td>\n",
       "    </tr>\n",
       "  </tbody>\n",
       "</table>\n",
       "</div>"
      ],
      "text/plain": [
       "             No of missing values in TRAIN after cleaning\n",
       "Target                                                  0\n",
       "abastaguano                                             0\n",
       "sanitario2                                              0\n",
       "sanitario1                                              0\n",
       "coopele                                                 0"
      ]
     },
     "execution_count": 25,
     "metadata": {},
     "output_type": "execute_result"
    }
   ],
   "source": [
    "train_df.isna().sum(axis=0).sort_values(ascending=False).head().to_frame(name='No of missing values in TRAIN after cleaning')\n"
   ]
  },
  {
   "cell_type": "code",
   "execution_count": 26,
   "metadata": {},
   "outputs": [
    {
     "data": {
      "text/html": [
       "<div>\n",
       "<style scoped>\n",
       "    .dataframe tbody tr th:only-of-type {\n",
       "        vertical-align: middle;\n",
       "    }\n",
       "\n",
       "    .dataframe tbody tr th {\n",
       "        vertical-align: top;\n",
       "    }\n",
       "\n",
       "    .dataframe thead th {\n",
       "        text-align: right;\n",
       "    }\n",
       "</style>\n",
       "<table border=\"1\" class=\"dataframe\">\n",
       "  <thead>\n",
       "    <tr style=\"text-align: right;\">\n",
       "      <th></th>\n",
       "      <th>No of missing values in TEST after cleaning</th>\n",
       "    </tr>\n",
       "  </thead>\n",
       "  <tbody>\n",
       "    <tr>\n",
       "      <td>agesq</td>\n",
       "      <td>0</td>\n",
       "    </tr>\n",
       "    <tr>\n",
       "      <td>abastaguano</td>\n",
       "      <td>0</td>\n",
       "    </tr>\n",
       "    <tr>\n",
       "      <td>sanitario2</td>\n",
       "      <td>0</td>\n",
       "    </tr>\n",
       "    <tr>\n",
       "      <td>sanitario1</td>\n",
       "      <td>0</td>\n",
       "    </tr>\n",
       "    <tr>\n",
       "      <td>coopele</td>\n",
       "      <td>0</td>\n",
       "    </tr>\n",
       "  </tbody>\n",
       "</table>\n",
       "</div>"
      ],
      "text/plain": [
       "             No of missing values in TEST after cleaning\n",
       "agesq                                                  0\n",
       "abastaguano                                            0\n",
       "sanitario2                                             0\n",
       "sanitario1                                             0\n",
       "coopele                                                0"
      ]
     },
     "execution_count": 26,
     "metadata": {},
     "output_type": "execute_result"
    }
   ],
   "source": [
    "test_df.isna().sum(axis=0).sort_values(ascending=False).head().to_frame(name='No of missing values in TEST after cleaning')"
   ]
  },
  {
   "cell_type": "code",
   "execution_count": 27,
   "metadata": {},
   "outputs": [
    {
     "data": {
      "text/plain": [
       "array([0.5 , 0.  , 8.  , 1.  , 0.25, 2.  , 0.33, 0.38, 0.6 , 1.5 , 0.2 ,\n",
       "       0.75, 0.67, 3.  , 0.14, 0.4 , 0.8 , 1.67, 0.29, 1.25, 2.5 , 5.  ,\n",
       "       0.86, 1.33, 0.17, 4.  , 0.12, 0.83, 2.33, 7.  , 1.2 , 3.5 , 2.25,\n",
       "       3.33, 6.  ])"
      ]
     },
     "execution_count": 27,
     "metadata": {},
     "output_type": "execute_result"
    }
   ],
   "source": [
    "#Let us clean the below Object type data for TRAIN\n",
    "# The squared dependency and squared edjefe have values of 0 and 1 for yes and no. \n",
    "#So let us do replace yes with 1 and no with 0 for these 3 columns as a first step\n",
    "\n",
    "train_df.dependency.unique()  #101, Cleaning Required Dependency rate, calculated = (number of members of the household younger than 19 or older than 64)/(number of member of household between 19 and 64)\n",
    "train_df.edjefe.unique()      #102 , Cleaning Required years of education of male head of household, based on the interaction of escolari (years of education), head of household and gender, yes=1 and no=0 \n",
    "train_df.edjefa.unique()      #103, Cleaning Required years of education of female head of household, based on the interaction of escolari (years of education), head of household and gender, yes=1 and no=0 \n",
    "train_df.dependency.replace(['yes','no'], [1,0], inplace =True)\n",
    "train_df.edjefe.replace(['yes','no'], [1,0], inplace =True)\n",
    "train_df.edjefa.replace(['yes','no'], [1,0], inplace =True)\n",
    "train_df.dependency=round(train_df.dependency.astype(np.float64),2)\n",
    "train_df.edjefe=round(train_df.edjefe.astype(np.float64),2)\n",
    "train_df.edjefa=round(train_df.edjefa.astype(np.float64),2)\n",
    "train_df.dependency.unique()\n",
    "\n",
    "#Let us clean the below Object type data for TEST\n",
    "# The squared dependency and squared edjefe have values of 0 and 1 for yes and no.\n",
    "test_df.dependency.unique()  #101, Cleaning Required Dependency rate, calculated = (number of members of the household younger than 19 or older than 64)/(number of member of household between 19 and 64)\n",
    "test_df.edjefe.unique()      #102 , Cleaning Required years of education of male head of household, based on the interaction of escolari (years of education), head of household and gender, yes=1 and no=0 \n",
    "test_df.edjefa.unique()      #103, Cleaning Required years of education of female head of household, based on the interaction of escolari (years of education), head of household and gender, yes=1 and no=0 \n",
    "test_df.dependency.replace(['yes','no'], [1,0], inplace =True)\n",
    "test_df.edjefe.replace(['yes','no'], [1,0], inplace =True)\n",
    "test_df.edjefa.replace(['yes','no'], [1,0], inplace =True)\n",
    "test_df.dependency=round(test_df.dependency.astype(np.float64),2)\n",
    "test_df.edjefe=round(test_df.edjefe.astype(np.float64),2)\n",
    "test_df.edjefa=round(test_df.edjefa.astype(np.float64),2)\n",
    "test_df.dependency.unique()\n",
    "\n"
   ]
  },
  {
   "cell_type": "markdown",
   "metadata": {},
   "source": [
    "## Task 8: Remove null value rows of the target variable."
   ]
  },
  {
   "cell_type": "code",
   "execution_count": 28,
   "metadata": {
    "scrolled": true
   },
   "outputs": [
    {
     "name": "stdout",
     "output_type": "stream",
     "text": [
      "Null value rows of target variable 23856 \n",
      "33413\n",
      "Null value rows of target variable after dropping 0 \n",
      "9557\n"
     ]
    }
   ],
   "source": [
    "print (\"Null value rows of target variable %r \" % df['Target'].isna().sum() )#Indicates the total number of test data -Let us drop them\n",
    "print (len(df))\n",
    "df.drop(df[df.Target.isna()].index,inplace = True)\n",
    "print (\"Null value rows of target variable after dropping %r \" % df['Target'].isna().sum())# Null value rows have now been dropped\n",
    "df.set_index(np.arange(0,len(df)),inplace =True)\n",
    "print (len(df))\n",
    "\n",
    "#Since this data corresponds to the train data, let us replace df with train data as its already cleaned\n",
    "df = train_df"
   ]
  },
  {
   "cell_type": "markdown",
   "metadata": {},
   "source": [
    "## Task 9: Predict the accuracy using random forest classifier."
   ]
  },
  {
   "cell_type": "code",
   "execution_count": 29,
   "metadata": {},
   "outputs": [],
   "source": [
    "#Let us drop the ID column as its not contributing to model.\n",
    "df.drop(['Id', 'idhogar'], axis = 1, inplace = True)\n",
    "test_df.drop(['Id', 'idhogar'], axis = 1, inplace = True)\n",
    "\n",
    "#Seperate your data into features and label. Ensure they are in the form of numpy arrays\n",
    "bckup_features = df.iloc[:,:-1]\n",
    "features = df.iloc[:,:-1].values\n",
    "label = df.Target.values\n",
    "\n"
   ]
  },
  {
   "cell_type": "code",
   "execution_count": 30,
   "metadata": {},
   "outputs": [
    {
     "name": "stdout",
     "output_type": "stream",
     "text": [
      "Ranking is [ 1 55  1  9 31  1  1  1  1  1  1  1  1  1  1  1  1  1  1  1 11  1  1  1\n",
      "  1 47  1 50 62 66  1  1 63 38 32  1 40 56 67 54  1 25 14 26  1 69 45  1\n",
      " 37  5  1 58 53 51  1  1  1  6 12  1 52 42 59  1  1  1  1  1  1  1  1  1\n",
      " 46 18 29 61 15 30 36 23 41 21 35 48 28 20 60 19 70 65 44 43 39 64  1  1\n",
      "  1  1  1  1  1  1 49 24 33 10 68 34 57 27 71  1  1 16  8  1  3  1 22  1\n",
      "  7  1  1  2  1  1 17 13  1  4  1  1  1  1  1  1  1  1  1  1]\n",
      "Support is [ True False  True False False  True  True  True  True  True  True  True\n",
      "  True  True  True  True  True  True  True  True False  True  True  True\n",
      "  True False  True False False False  True  True False False False  True\n",
      " False False False False  True False False False  True False False  True\n",
      " False False  True False False False  True  True  True False False  True\n",
      " False False False  True  True  True  True  True  True  True  True  True\n",
      " False False False False False False False False False False False False\n",
      " False False False False False False False False False False  True  True\n",
      "  True  True  True  True  True  True False False False False False False\n",
      " False False False  True  True False False  True False  True False  True\n",
      " False  True  True False  True  True False False  True False  True  True\n",
      "  True  True  True  True  True  True  True  True]\n"
     ]
    }
   ],
   "source": [
    "# 1. Initialize the model's algorithm\n",
    "from sklearn.ensemble import RandomForestClassifier\n",
    "RFModel = RandomForestClassifier(max_depth=8)\n",
    "modelForRFE = RFModel\n",
    "# 2. Apply RFE to model (ALL FEATURES and Label)\n",
    "from sklearn.feature_selection import RFE\n",
    "selectFeaturesRFE = RFE(estimator=modelForRFE,\n",
    "                       step = 1) #Eliminate Feature One by One at each iteration\n",
    "\n",
    "selectFeaturesRFE.fit(features,label)\n",
    "\n",
    "# 3. Get Features with High Ranking\n",
    "#print(finalData.columns)\n",
    "ranking = selectFeaturesRFE.ranking_\n",
    "support = selectFeaturesRFE.support_\n",
    "print (\"Ranking is {}\".format(ranking))\n",
    "print (\"Support is {}\".format(support))"
   ]
  },
  {
   "cell_type": "code",
   "execution_count": 31,
   "metadata": {},
   "outputs": [
    {
     "data": {
      "text/plain": [
       "140"
      ]
     },
     "execution_count": 31,
     "metadata": {},
     "output_type": "execute_result"
    }
   ],
   "source": [
    "df.head(1)\n",
    "len(support)\n",
    "len(bckup_features.columns)"
   ]
  },
  {
   "cell_type": "code",
   "execution_count": 32,
   "metadata": {},
   "outputs": [
    {
     "data": {
      "text/plain": [
       "70"
      ]
     },
     "execution_count": 32,
     "metadata": {},
     "output_type": "execute_result"
    }
   ],
   "source": [
    "feature_index  = []\n",
    "for i, flag in enumerate(support):\n",
    "    if flag:\n",
    "        feature_index.append(i)\n",
    "feature_index\n",
    "RFE_features = bckup_features.iloc[:,feature_index].values\n",
    "len(feature_index)"
   ]
  },
  {
   "cell_type": "code",
   "execution_count": null,
   "metadata": {},
   "outputs": [
    {
     "name": "stdout",
     "output_type": "stream",
     "text": [
      "Test: 0.6302301255230126 Train: 0.6277305428384565 RS: 1\n",
      "Test: 0.6333682008368201 Train: 0.6308698495748856 RS: 1\n",
      "Test: 0.6553347280334728 Train: 0.6464355788096795 RS: 1\n",
      "Test: 0.6689330543933054 Train: 0.6614780902550687 RS: 1\n"
     ]
    }
   ],
   "source": [
    "from sklearn.model_selection import train_test_split\n",
    "from sklearn.ensemble import RandomForestClassifier\n",
    "\n",
    "def determine_RS(features, label):\n",
    "    max_val = -10\n",
    "    max_train = -10\n",
    "    ideal_model = None\n",
    "    random_state = 0\n",
    "    max_depth = 0\n",
    "    xtrain=xtest=ytrain=ytest = 0\n",
    "    hit = 0 # This flag is fired when the test score is greater than train score\n",
    "    #Since there are 9557 records lets try iteration over 9557\n",
    "    for i in range(1,200):\n",
    "        X_train,X_test,y_train,y_test = train_test_split(features,\n",
    "                                                        label,\n",
    "                                                        test_size=0.2,\n",
    "                                                        random_state = i)\n",
    "        for j in range(1,50):\n",
    "            model = RandomForestClassifier(max_depth=j)\n",
    "            model.fit(X_train,y_train)\n",
    "\n",
    "            train_score = model.score(X_train,y_train)\n",
    "            test_score = model.score(X_test,y_test)\n",
    "\n",
    "            if test_score > train_score:\n",
    "                hit = 1\n",
    "                #print (\"test %r \" % test_score)\n",
    "                #print (\"max val %r \" % max_val)\n",
    "                if test_score > max_val:\n",
    "                    max_val = test_score\n",
    "                    ideal_model = model\n",
    "                    random_state = i\n",
    "                    max_depth = j\n",
    "                    max_train = train_score\n",
    "                    xtrain,xtest,ytrain,ytest = X_train,X_test,y_train,y_test\n",
    "                print(\"Test: {} Train: {} RS: {}\".format(test_score,train_score,i))\n",
    "    print (\"Ideal model inside %r \" % (ideal_model))\n",
    "    return [max_val,max_train, random_state, max_depth ,hit, ideal_model,xtrain,xtest,ytrain,ytest]\n",
    "\n",
    "\n",
    "max_test_score_RF ,max_train_score_RF, random_state_RF,max_depth, hit_RF ,ideal_model_RF,X_train_RF,X_test_RF,y_train_RF,y_test_RF= determine_RS(RFE_features, label)\n",
    "\n",
    "print (\"Ideal model %r max_depth %r \"  %(ideal_model_RF, max_depth))\n",
    "\n",
    "print (\"The random state for the max test score of %r and train score of %r is %r \" % (max_test_score_RF, max_train_score_RF,random_state_RF))\n",
    "if hit_RF:\n",
    "    print (\"Since test score is greater than train score this model is good\")\n",
    "    \n",
    "## KEep Running this !!! HAve Pressed KEyboard Interrupt. If executed further it will give output as below!"
   ]
  },
  {
   "cell_type": "markdown",
   "metadata": {},
   "source": [
    "#### The random state for the max test score of 0.7939330543933054 and train score of 0.7852190974493133 is 90 \n",
    "#### Since test score is greater than train score this model is good"
   ]
  },
  {
   "cell_type": "code",
   "execution_count": 33,
   "metadata": {},
   "outputs": [
    {
     "data": {
      "text/html": [
       "<div>\n",
       "<style scoped>\n",
       "    .dataframe tbody tr th:only-of-type {\n",
       "        vertical-align: middle;\n",
       "    }\n",
       "\n",
       "    .dataframe tbody tr th {\n",
       "        vertical-align: top;\n",
       "    }\n",
       "\n",
       "    .dataframe thead th {\n",
       "        text-align: right;\n",
       "    }\n",
       "</style>\n",
       "<table border=\"1\" class=\"dataframe\">\n",
       "  <thead>\n",
       "    <tr style=\"text-align: right;\">\n",
       "      <th></th>\n",
       "      <th>Model</th>\n",
       "      <th>Test Score</th>\n",
       "      <th>Train Score</th>\n",
       "      <th>Random State</th>\n",
       "      <th>Max Depth</th>\n",
       "    </tr>\n",
       "  </thead>\n",
       "  <tbody>\n",
       "    <tr>\n",
       "      <td>0</td>\n",
       "      <td>Random Forest</td>\n",
       "      <td>0.793</td>\n",
       "      <td>0.785</td>\n",
       "      <td>90</td>\n",
       "      <td>8</td>\n",
       "    </tr>\n",
       "  </tbody>\n",
       "</table>\n",
       "</div>"
      ],
      "text/plain": [
       "           Model  Test Score  Train Score  Random State  Max Depth\n",
       "0  Random Forest       0.793        0.785            90          8"
      ]
     },
     "execution_count": 33,
     "metadata": {},
     "output_type": "execute_result"
    }
   ],
   "source": [
    "#Output:\n",
    "#Ideal model RandomForestClassifier(bootstrap=True, class_weight=None, criterion='gini',\n",
    "#                       max_depth=8, max_features='auto', max_leaf_nodes=None,\n",
    "#                       min_impurity_decrease=0.0, min_impurity_split=None,\n",
    "#                       min_samples_leaf=1, min_samples_split=2,\n",
    "#                       min_weight_fraction_leaf=0.0, n_estimators=10,\n",
    "#                       n_jobs=None, oob_score=False, random_state=None,\n",
    "#                       verbose=0, warm_start=False) max_depth 8 \n",
    "#The random state for the max test score of 0.7939330543933054 and train score of 0.7852190974493133 is 90 \n",
    "#Since test score is greater than train score this model is good\n",
    "data = {'Model':['Random Forest'],\n",
    "        'Test Score':[0.793 ],\n",
    "        'Train Score' :[0.785],\n",
    "        'Random State':[90],\n",
    "        'Max Depth':[8] }\n",
    " \n",
    "# Create DataFrame\n",
    "Result_df= pd.DataFrame(data)\n",
    "Result_df"
   ]
  },
  {
   "cell_type": "markdown",
   "metadata": {},
   "source": [
    "####  Let us Predict with the sample test split data from train and also test.csv"
   ]
  },
  {
   "cell_type": "code",
   "execution_count": 34,
   "metadata": {},
   "outputs": [
    {
     "name": "stdout",
     "output_type": "stream",
     "text": [
      "Train Score for this model is 0.78378024852845\n",
      "Test Score for this model is 0.7923640167364017\n"
     ]
    }
   ],
   "source": [
    "#Let us apply the best parameters obtained from above \n",
    "from sklearn.model_selection import train_test_split\n",
    "from sklearn.ensemble import RandomForestClassifier\n",
    "X_train,X_test,y_train,y_test = train_test_split(RFE_features,\n",
    "                                                label,\n",
    "                                                test_size=0.2,\n",
    "                                                random_state = 90)\n",
    "\n",
    "model = RandomForestClassifier(max_depth=8)\n",
    "model.fit(X_train,y_train)\n",
    "\n",
    "train_score = model.score(X_train,y_train)\n",
    "test_score = model.score(X_test,y_test)\n",
    "\n",
    "print (\"Train Score for this model is {}\".format(train_score))\n",
    "print (\"Test Score for this model is {}\".format(test_score))\n",
    "\n",
    "\n",
    "\n",
    "\n"
   ]
  },
  {
   "cell_type": "markdown",
   "metadata": {},
   "source": [
    "####  Case a: Train.csv was divided into train and test samples. Lets do prediction with these samples"
   ]
  },
  {
   "cell_type": "code",
   "execution_count": 63,
   "metadata": {},
   "outputs": [
    {
     "data": {
      "text/html": [
       "<div>\n",
       "<style scoped>\n",
       "    .dataframe tbody tr th:only-of-type {\n",
       "        vertical-align: middle;\n",
       "    }\n",
       "\n",
       "    .dataframe tbody tr th {\n",
       "        vertical-align: top;\n",
       "    }\n",
       "\n",
       "    .dataframe thead th {\n",
       "        text-align: right;\n",
       "    }\n",
       "</style>\n",
       "<table border=\"1\" class=\"dataframe\">\n",
       "  <thead>\n",
       "    <tr style=\"text-align: right;\">\n",
       "      <th></th>\n",
       "      <th>Monthly Rent</th>\n",
       "      <th>No of rooms</th>\n",
       "      <th>Predicted Poverty Level</th>\n",
       "    </tr>\n",
       "  </thead>\n",
       "  <tbody>\n",
       "    <tr>\n",
       "      <td>0</td>\n",
       "      <td>75000.000000</td>\n",
       "      <td>0.0</td>\n",
       "      <td>4</td>\n",
       "    </tr>\n",
       "    <tr>\n",
       "      <td>1</td>\n",
       "      <td>150000.000000</td>\n",
       "      <td>1.0</td>\n",
       "      <td>4</td>\n",
       "    </tr>\n",
       "    <tr>\n",
       "      <td>2</td>\n",
       "      <td>0.000000</td>\n",
       "      <td>0.0</td>\n",
       "      <td>4</td>\n",
       "    </tr>\n",
       "    <tr>\n",
       "      <td>3</td>\n",
       "      <td>0.000000</td>\n",
       "      <td>1.0</td>\n",
       "      <td>3</td>\n",
       "    </tr>\n",
       "    <tr>\n",
       "      <td>4</td>\n",
       "      <td>50807.164975</td>\n",
       "      <td>1.0</td>\n",
       "      <td>4</td>\n",
       "    </tr>\n",
       "    <tr>\n",
       "      <td>...</td>\n",
       "      <td>...</td>\n",
       "      <td>...</td>\n",
       "      <td>...</td>\n",
       "    </tr>\n",
       "    <tr>\n",
       "      <td>1907</td>\n",
       "      <td>0.000000</td>\n",
       "      <td>1.0</td>\n",
       "      <td>4</td>\n",
       "    </tr>\n",
       "    <tr>\n",
       "      <td>1908</td>\n",
       "      <td>0.000000</td>\n",
       "      <td>1.0</td>\n",
       "      <td>4</td>\n",
       "    </tr>\n",
       "    <tr>\n",
       "      <td>1909</td>\n",
       "      <td>180000.000000</td>\n",
       "      <td>1.0</td>\n",
       "      <td>4</td>\n",
       "    </tr>\n",
       "    <tr>\n",
       "      <td>1910</td>\n",
       "      <td>0.000000</td>\n",
       "      <td>1.0</td>\n",
       "      <td>4</td>\n",
       "    </tr>\n",
       "    <tr>\n",
       "      <td>1911</td>\n",
       "      <td>0.000000</td>\n",
       "      <td>1.0</td>\n",
       "      <td>4</td>\n",
       "    </tr>\n",
       "  </tbody>\n",
       "</table>\n",
       "<p>1912 rows × 3 columns</p>\n",
       "</div>"
      ],
      "text/plain": [
       "       Monthly Rent  No of rooms  Predicted Poverty Level\n",
       "0      75000.000000          0.0                        4\n",
       "1     150000.000000          1.0                        4\n",
       "2          0.000000          0.0                        4\n",
       "3          0.000000          1.0                        3\n",
       "4      50807.164975          1.0                        4\n",
       "...             ...          ...                      ...\n",
       "1907       0.000000          1.0                        4\n",
       "1908       0.000000          1.0                        4\n",
       "1909  180000.000000          1.0                        4\n",
       "1910       0.000000          1.0                        4\n",
       "1911       0.000000          1.0                        4\n",
       "\n",
       "[1912 rows x 3 columns]"
      ]
     },
     "execution_count": 63,
     "metadata": {},
     "output_type": "execute_result"
    }
   ],
   "source": [
    "\n",
    "output = model.predict(X_test)\n",
    "output_df = pd.DataFrame(output)\n",
    "X_test_df = pd.DataFrame(X_test)\n",
    "\n",
    "#For display purpose using only v2a1(Monthly Rent  and no of rooms) though 140 Features were actually used\n",
    "Predicted_RF = pd.concat([X_test_df.iloc[:,[0,2]], output_df] , axis =1,)\n",
    "Predicted_RF.columns = ['Monthly Rent','No of rooms','Predicted Poverty Level']\n",
    "Predicted_RF"
   ]
  },
  {
   "cell_type": "markdown",
   "metadata": {},
   "source": [
    "####  Case b: Predict using the validation samples present in test.csv"
   ]
  },
  {
   "cell_type": "code",
   "execution_count": 64,
   "metadata": {},
   "outputs": [
    {
     "data": {
      "text/html": [
       "<div>\n",
       "<style scoped>\n",
       "    .dataframe tbody tr th:only-of-type {\n",
       "        vertical-align: middle;\n",
       "    }\n",
       "\n",
       "    .dataframe tbody tr th {\n",
       "        vertical-align: top;\n",
       "    }\n",
       "\n",
       "    .dataframe thead th {\n",
       "        text-align: right;\n",
       "    }\n",
       "</style>\n",
       "<table border=\"1\" class=\"dataframe\">\n",
       "  <thead>\n",
       "    <tr style=\"text-align: right;\">\n",
       "      <th></th>\n",
       "      <th>Monthly Rent</th>\n",
       "      <th>No of rooms</th>\n",
       "      <th>Predicted Poverty Level</th>\n",
       "    </tr>\n",
       "  </thead>\n",
       "  <tbody>\n",
       "    <tr>\n",
       "      <td>0</td>\n",
       "      <td>0.0</td>\n",
       "      <td>1.0</td>\n",
       "      <td>4</td>\n",
       "    </tr>\n",
       "    <tr>\n",
       "      <td>1</td>\n",
       "      <td>0.0</td>\n",
       "      <td>1.0</td>\n",
       "      <td>4</td>\n",
       "    </tr>\n",
       "    <tr>\n",
       "      <td>2</td>\n",
       "      <td>0.0</td>\n",
       "      <td>1.0</td>\n",
       "      <td>4</td>\n",
       "    </tr>\n",
       "    <tr>\n",
       "      <td>3</td>\n",
       "      <td>0.0</td>\n",
       "      <td>1.0</td>\n",
       "      <td>4</td>\n",
       "    </tr>\n",
       "    <tr>\n",
       "      <td>4</td>\n",
       "      <td>175000.0</td>\n",
       "      <td>1.0</td>\n",
       "      <td>4</td>\n",
       "    </tr>\n",
       "    <tr>\n",
       "      <td>...</td>\n",
       "      <td>...</td>\n",
       "      <td>...</td>\n",
       "      <td>...</td>\n",
       "    </tr>\n",
       "    <tr>\n",
       "      <td>23851</td>\n",
       "      <td>0.0</td>\n",
       "      <td>1.0</td>\n",
       "      <td>2</td>\n",
       "    </tr>\n",
       "    <tr>\n",
       "      <td>23852</td>\n",
       "      <td>0.0</td>\n",
       "      <td>1.0</td>\n",
       "      <td>4</td>\n",
       "    </tr>\n",
       "    <tr>\n",
       "      <td>23853</td>\n",
       "      <td>0.0</td>\n",
       "      <td>1.0</td>\n",
       "      <td>4</td>\n",
       "    </tr>\n",
       "    <tr>\n",
       "      <td>23854</td>\n",
       "      <td>0.0</td>\n",
       "      <td>1.0</td>\n",
       "      <td>4</td>\n",
       "    </tr>\n",
       "    <tr>\n",
       "      <td>23855</td>\n",
       "      <td>0.0</td>\n",
       "      <td>1.0</td>\n",
       "      <td>4</td>\n",
       "    </tr>\n",
       "  </tbody>\n",
       "</table>\n",
       "<p>23856 rows × 3 columns</p>\n",
       "</div>"
      ],
      "text/plain": [
       "       Monthly Rent  No of rooms  Predicted Poverty Level\n",
       "0               0.0          1.0                        4\n",
       "1               0.0          1.0                        4\n",
       "2               0.0          1.0                        4\n",
       "3               0.0          1.0                        4\n",
       "4          175000.0          1.0                        4\n",
       "...             ...          ...                      ...\n",
       "23851           0.0          1.0                        2\n",
       "23852           0.0          1.0                        4\n",
       "23853           0.0          1.0                        4\n",
       "23854           0.0          1.0                        4\n",
       "23855           0.0          1.0                        4\n",
       "\n",
       "[23856 rows x 3 columns]"
      ]
     },
     "execution_count": 64,
     "metadata": {},
     "output_type": "execute_result"
    }
   ],
   "source": [
    "Testing = test_df.iloc[:,feature_index].values\n",
    "output_Test = model.predict(Testing)\n",
    "output_Test_df = pd.DataFrame(output_Test)\n",
    "Testing_df = pd.DataFrame(Testing)\n",
    "\n",
    "\n",
    "#For display purpose using only v2a1(Monthly Rent  and no of rooms) though 140 Features were actually used\n",
    "Predicted_RF = pd.concat([Testing_df.iloc[:,[0,2]], output_Test_df] , axis =1,)\n",
    "Predicted_RF.columns = ['Monthly Rent','No of rooms','Predicted Poverty Level']\n",
    "Predicted_RF"
   ]
  },
  {
   "cell_type": "code",
   "execution_count": 42,
   "metadata": {},
   "outputs": [
    {
     "name": "stdout",
     "output_type": "stream",
     "text": [
      "              precision    recall  f1-score   support\n",
      "\n",
      "           1       0.94      0.47      0.62       774\n",
      "           2       0.72      0.55      0.62      1558\n",
      "           3       0.97      0.30      0.46      1221\n",
      "           4       0.78      0.99      0.87      6004\n",
      "\n",
      "    accuracy                           0.79      9557\n",
      "   macro avg       0.85      0.58      0.65      9557\n",
      "weighted avg       0.81      0.79      0.76      9557\n",
      "\n"
     ]
    }
   ],
   "source": [
    "## Get the classification report\n",
    "\n",
    "from sklearn.metrics import classification_report\n",
    "print(classification_report(label, model.predict(RFE_features)))"
   ]
  },
  {
   "cell_type": "markdown",
   "metadata": {},
   "source": [
    "### PR Curve"
   ]
  },
  {
   "cell_type": "code",
   "execution_count": 45,
   "metadata": {},
   "outputs": [],
   "source": [
    "\n",
    "#Step1: Encode our labels\n",
    "#Ensure label is written in ascending order\n",
    "from sklearn.preprocessing import label_binarize\n",
    "y = label_binarize(label, classes=[1,2,3,4])\n",
    "\n",
    "from sklearn.multiclass import OneVsRestClassifier\n",
    "\n",
    "multiClassModel = OneVsRestClassifier(RandomForestClassifier())\n",
    "X_train,X_test,y_train,y_test= train_test_split(RFE_features,y,test_size=.2,random_state=90)\n",
    "\n",
    "#Goal is to get the prob values of 1 (Achievable by using DecisionFunction)\n",
    "\n",
    "y_score = multiClassModel.fit(X_train,y_train).predict(X_test)"
   ]
  },
  {
   "cell_type": "code",
   "execution_count": 46,
   "metadata": {},
   "outputs": [
    {
     "data": {
      "image/png": "[encoded data removed]",
      "text/plain": [
       "<Figure size 432x288 with 1 Axes>"
      ]
     },
     "metadata": {
      "needs_background": "light"
     },
     "output_type": "display_data"
    },
    {
     "data": {
      "image/png": "[encoded data removed]",
      "text/plain": [
       "<Figure size 432x288 with 1 Axes>"
      ]
     },
     "metadata": {
      "needs_background": "light"
     },
     "output_type": "display_data"
    },
    {
     "data": {
      "image/png": "[encoded data removed]",
      "text/plain": [
       "<Figure size 432x288 with 1 Axes>"
      ]
     },
     "metadata": {
      "needs_background": "light"
     },
     "output_type": "display_data"
    },
    {
     "data": {
      "image/png": "[encoded data removed]",
      "text/plain": [
       "<Figure size 432x288 with 1 Axes>"
      ]
     },
     "metadata": {
      "needs_background": "light"
     },
     "output_type": "display_data"
    }
   ],
   "source": [
    "from sklearn.metrics import precision_recall_curve\n",
    "from sklearn.metrics import auc\n",
    "import matplotlib.pyplot as plt\n",
    "%matplotlib inline\n",
    "\n",
    "precision = dict()\n",
    "recall = dict()\n",
    "auc1 = dict()\n",
    "\n",
    "\n",
    "\n",
    "for i in range(0,len(df.Target.unique())):\n",
    "    precision[i],recall[i],_ = precision_recall_curve(y_test[:,i] , y_score[:,i] )\n",
    "    auc1[i] = auc(recall[i] , precision[i])\n",
    "    \n",
    "\n",
    "for i in range(0,len(df.Target.unique())):\n",
    "    plt.figure()\n",
    "    plt.plot([0,1],[0.5,0.5], linestyle='--')\n",
    "    plt.plot(recall[i],precision[i])"
   ]
  },
  {
   "cell_type": "code",
   "execution_count": null,
   "metadata": {},
   "outputs": [],
   "source": []
  },
  {
   "cell_type": "markdown",
   "metadata": {},
   "source": [
    "## Task 10: Check the accuracy using random forest with cross validation"
   ]
  },
  {
   "cell_type": "code",
   "execution_count": 37,
   "metadata": {},
   "outputs": [
    {
     "data": {
      "text/plain": [
       "'\\ndef determine_cv(model, features,label):\\n    score_mean = 0\\n    ideal_cv = 0\\n    ideal_scores= 0\\n    for i in range(2,1000):\\n        scores = cross_val_score(model,\\n                                features,\\n                                label,\\n                                cv=i)\\n        if scores.mean() > score_mean:\\n            score_mean = scores.mean()\\n            ideal_cv = i\\n            ideal_scores= scores\\n            \\n\\n    return [score_mean, ideal_cv, ideal_scores]\\n\\nscore_mean, ideal_cv, ideal_scores= determine_cv(model, RFE_features,label)\\n\\n#1. To get the minimum score threshold\\nprint(\"Minimum Score Threshold is : \",ideal_scores.mean())\\n\\n#. To understand what max score I can acheive from the dataset\\nprint(\"Max Score Achievable is: \",ideal_scores.max())\\n'"
      ]
     },
     "execution_count": 37,
     "metadata": {},
     "output_type": "execute_result"
    }
   ],
   "source": [
    "#Hyper Parameter\n",
    "#------------------\n",
    "# What is Hyperparameter?\n",
    "#\n",
    "# The parameters that we set in the model is called Hyperparameter\n",
    "#\n",
    "# Every Algorithm(Model) has different set of Hyperparameters.\n",
    "# Our Goal is to identify the best hyperparameter values that can improve the quality of the model\n",
    "# This can be achieved using Hyperparameter Tuning\n",
    "#\n",
    "#\n",
    "# Is Hyperparameter Tuning Mandatory?\n",
    "#\n",
    "# If you achieve the best quality model with default config, then this step is not required.\n",
    "\n",
    "from sklearn.model_selection import cross_val_score\n",
    "model = RandomForestClassifier(max_depth=8)\n",
    "#Uncomment the below lines if you want to find the best cv value\n",
    "'''\n",
    "def determine_cv(model, features,label):\n",
    "    score_mean = 0\n",
    "    ideal_cv = 0\n",
    "    ideal_scores= 0\n",
    "    for i in range(2,1000):\n",
    "        scores = cross_val_score(model,\n",
    "                                features,\n",
    "                                label,\n",
    "                                cv=i)\n",
    "        if scores.mean() > score_mean:\n",
    "            score_mean = scores.mean()\n",
    "            ideal_cv = i\n",
    "            ideal_scores= scores\n",
    "            \n",
    "\n",
    "    return [score_mean, ideal_cv, ideal_scores]\n",
    "\n",
    "score_mean, ideal_cv, ideal_scores= determine_cv(model, RFE_features,label)\n",
    "\n",
    "#1. To get the minimum score threshold\n",
    "print(\"Minimum Score Threshold is : \",ideal_scores.mean())\n",
    "\n",
    "#. To understand what max score I can acheive from the dataset\n",
    "print(\"Max Score Achievable is: \",ideal_scores.max())\n",
    "'''"
   ]
  },
  {
   "cell_type": "code",
   "execution_count": 38,
   "metadata": {},
   "outputs": [],
   "source": [
    "### Conclusion: Ideal cv with greatest min threshold = 750"
   ]
  },
  {
   "cell_type": "code",
   "execution_count": 39,
   "metadata": {},
   "outputs": [],
   "source": [
    "## HyperParameter Tuning"
   ]
  },
  {
   "cell_type": "code",
   "execution_count": null,
   "metadata": {},
   "outputs": [],
   "source": [
    "#Method 1: Technique to Perform Hyperparamter tuning using GridSearchCV\n",
    "\n",
    "#1. Design your parameter grid. In Python Parameter grid must be represented in the form of dictionary\n",
    "model = RandomForestClassifier()\n",
    "max_depth = np.arange(1,15)\n",
    "n_estimators = np.arange(1,15)\n",
    "\n",
    "paramGrid = dict(max_depth = max_depth, \n",
    "                 n_estimators = n_estimators)\n",
    "\n",
    "\n",
    "#2. Apply GridSearchCV to identify the best values for each Hyperparameter\n",
    "\n",
    "from sklearn.model_selection import GridSearchCV\n",
    "grid = GridSearchCV(model,\n",
    "                   param_grid=paramGrid,\n",
    "                   cv=750)\n",
    "#3. Execute Grid Search\n",
    "grid.fit(features,label)\n",
    "\n",
    "#4.Check Results\n",
    "\n",
    "print (grid.best_score_)\n",
    "\n",
    "print (grid.best_params_)\n",
    "\n",
    "print (grid.best_estimator_)"
   ]
  },
  {
   "cell_type": "code",
   "execution_count": null,
   "metadata": {},
   "outputs": [],
   "source": [
    "#Method 2: Technique to Perform Hyperparamter tuning using GridSearchCV\n",
    "\n",
    "#1. Design your parameter grid. In Python Parameter grid must be represented in the form of dictionary\n",
    "model = RandomForestClassifier()\n",
    "max_depth = np.arange(1,15)\n",
    "n_estimators = np.arange(1,15)\n",
    "\n",
    "paramGrid = dict(max_depth = max_depth, \n",
    "                 n_estimators = n_estimators)\n",
    "\n",
    "\n",
    "#2. Apply GridSearchCV to identify the best values for each Hyperparameter\n",
    "\n",
    "from sklearn.model_selection import RandomizedSearchCV\n",
    "rGrid = RandomizedSearchCV(model,\n",
    "                   param_distributions=paramGrid,\n",
    "                   cv=750, n_iter=60)\n",
    "#3. Execute RGrid\n",
    "rGrid.fit(features,label)\n",
    "\n",
    "#4. Check Results\n",
    "print (rGrid.best_score_)\n",
    "\n",
    "print (rGrid.best_params_)\n",
    "\n",
    "print (rGrid.best_estimator_)"
   ]
  },
  {
   "cell_type": "markdown",
   "metadata": {},
   "source": [
    "### Conclusion: We are getting better results from For loop as done in step 9. Hence let us proceed with it"
   ]
  },
  {
   "cell_type": "code",
   "execution_count": null,
   "metadata": {},
   "outputs": [],
   "source": [
    "?RandomForestClassifier"
   ]
  },
  {
   "cell_type": "code",
   "execution_count": 78,
   "metadata": {},
   "outputs": [
    {
     "name": "stdout",
     "output_type": "stream",
     "text": [
      "Test Score: 1.0, Train Score: 0.7670787929589271, for Sample Split 69\n",
      "Test Score: 1.0, Train Score: 0.7619446772841576, for Sample Split 108\n",
      "Test Score: 1.0, Train Score: 0.7723176865046102, for Sample Split 167\n",
      "Test Score: 1.0, Train Score: 0.761211232187762, for Sample Split 250\n",
      "Test Score: 1.0, Train Score: 0.7687552388935457, for Sample Split 355\n",
      "Test Score: 1.0, Train Score: 0.7773703509690938, for Sample Split 573\n",
      "Test Score: 1.0, Train Score: 0.7731796752226296, for Sample Split 597\n",
      "Test Score: 1.0, Train Score: 0.7657412257726558, for Sample Split 599\n",
      "Test Score: 1.0, Train Score: 0.7796752226296491, for Sample Split 609\n",
      "Test Score: 1.0, Train Score: 0.7665793609219487, for Sample Split 611\n",
      "Test Score: 1.0, Train Score: 0.7632268203247774, for Sample Split 638\n",
      "Test Score: 1.0, Train Score: 0.7668936616029335, for Sample Split 704\n",
      " Max test score of 1.0 corresponding to train score 0.7796752226296491 with sample split 609 \n"
     ]
    }
   ],
   "source": [
    "#Method1: K-Fold Cross Validation Technique\n",
    "\n",
    "#1. Initialize the algorithm'\n",
    "\n",
    "from sklearn.model_selection import KFold\n",
    "modelAlgo = RandomForestClassifier(max_depth=8)\n",
    "\n",
    "\n",
    "#2. Initialize K-Fold Function\n",
    "\n",
    "\n",
    "#Ensure n_splits = cv value\n",
    "kfold = KFold(n_splits=750,\n",
    "             shuffle=True,\n",
    "             random_state = 1) #Goal of RS is to persist my KFOLD so that we can extract the samples\n",
    "\n",
    "#3. Initialize For Loop to identify which sample split gives the best score\n",
    "def get_ideal_test_train_split(kfold, features,label):\n",
    "    counter = 0\n",
    "    best_split = test_s = train_s =0\n",
    "    Xtrain = Xtest = ytrain = ytest = None\n",
    "    ideal_model = None\n",
    "    for train,test in kfold.split(features):\n",
    "        #Counter will help track the sample\n",
    "        counter = counter + 1\n",
    "\n",
    "        #Extract training set and testing set\n",
    "        X_train,X_test = features[train],features[test]\n",
    "        y_train,y_test = label[train],label[test]\n",
    "\n",
    "        #Fit data with model algo\n",
    "        #print (\"We are going to fit\")\n",
    "        modelAlgo.fit(X_train,y_train)\n",
    "        #print (\"End We are going to fit\")\n",
    "        #print (\"Score %r \" % modelAlgo.score(X_test,y_test))\n",
    "        train_score = modelAlgo.score(X_train,y_train)\n",
    "        test_score = modelAlgo.score(X_test,y_test)\n",
    "        if test_score >= 1.0:\n",
    "            print(\"Test Score: {}, Train Score: {}, for Sample Split {}\".format(test_score,train_score,counter))\n",
    "            if train_score > train_s:\n",
    "                train_s = train_score\n",
    "                test_s = test_score\n",
    "                best_split = counter\n",
    "                ideal_model = modelAlgo\n",
    "                Xtrain,Xtest, ytrain,ytest = X_train,X_test,y_train,y_test\n",
    "    return [train_s, test_s, best_split,Xtrain,Xtest, ytrain,ytest, ideal_model]\n",
    "        \n",
    "train_s, test_s, best_split , Xtrain,Xtest, ytrain,ytest, ideal_model = get_ideal_test_train_split(kfold, features,label)\n",
    "print (\" Max test score of {} corresponding to train score {} with sample split {} \".format(test_s, train_s, best_split))\n",
    "\n",
    "#Conclusion : Test Score: 1.0, Train Score: 0.7815610267155579, for Sample Split 697"
   ]
  },
  {
   "cell_type": "code",
   "execution_count": 80,
   "metadata": {},
   "outputs": [
    {
     "data": {
      "text/html": [
       "<div>\n",
       "<style scoped>\n",
       "    .dataframe tbody tr th:only-of-type {\n",
       "        vertical-align: middle;\n",
       "    }\n",
       "\n",
       "    .dataframe tbody tr th {\n",
       "        vertical-align: top;\n",
       "    }\n",
       "\n",
       "    .dataframe thead th {\n",
       "        text-align: right;\n",
       "    }\n",
       "</style>\n",
       "<table border=\"1\" class=\"dataframe\">\n",
       "  <thead>\n",
       "    <tr style=\"text-align: right;\">\n",
       "      <th></th>\n",
       "      <th>Model</th>\n",
       "      <th>Test Score</th>\n",
       "      <th>Train Score</th>\n",
       "      <th>Sample Split</th>\n",
       "      <th>Max Depth</th>\n",
       "    </tr>\n",
       "  </thead>\n",
       "  <tbody>\n",
       "    <tr>\n",
       "      <td>0</td>\n",
       "      <td>Random Forest with K Fold</td>\n",
       "      <td>1.0</td>\n",
       "      <td>0.77</td>\n",
       "      <td>609</td>\n",
       "      <td>8</td>\n",
       "    </tr>\n",
       "  </tbody>\n",
       "</table>\n",
       "</div>"
      ],
      "text/plain": [
       "                       Model  Test Score  Train Score  Sample Split  Max Depth\n",
       "0  Random Forest with K Fold         1.0         0.77           609          8"
      ]
     },
     "execution_count": 80,
     "metadata": {},
     "output_type": "execute_result"
    }
   ],
   "source": [
    "data = {'Model':['Random Forest with K Fold'],\n",
    "        'Test Score':[1.0],\n",
    "        'Train Score' :[0.77],\n",
    "        'Sample Split':[609],\n",
    "        'Max Depth': 8}\n",
    " \n",
    "# Create DataFrames\n",
    "Result_df_KFold= pd.DataFrame(data)\n",
    "Result_df_KFold"
   ]
  },
  {
   "cell_type": "markdown",
   "metadata": {},
   "source": [
    "####  Case a: Train.csv was divided into train and test samples. Lets do prediction with these samples"
   ]
  },
  {
   "cell_type": "code",
   "execution_count": 83,
   "metadata": {},
   "outputs": [
    {
     "name": "stdout",
     "output_type": "stream",
     "text": [
      "0.7615505500261918\n",
      "0.8333333333333334\n"
     ]
    },
    {
     "data": {
      "text/html": [
       "<div>\n",
       "<style scoped>\n",
       "    .dataframe tbody tr th:only-of-type {\n",
       "        vertical-align: middle;\n",
       "    }\n",
       "\n",
       "    .dataframe tbody tr th {\n",
       "        vertical-align: top;\n",
       "    }\n",
       "\n",
       "    .dataframe thead th {\n",
       "        text-align: right;\n",
       "    }\n",
       "</style>\n",
       "<table border=\"1\" class=\"dataframe\">\n",
       "  <thead>\n",
       "    <tr style=\"text-align: right;\">\n",
       "      <th></th>\n",
       "      <th>Monthly Rent</th>\n",
       "      <th>No of rooms</th>\n",
       "      <th>Predicted Poverty Level</th>\n",
       "    </tr>\n",
       "  </thead>\n",
       "  <tbody>\n",
       "    <tr>\n",
       "      <td>0</td>\n",
       "      <td>770229.000000</td>\n",
       "      <td>8.0</td>\n",
       "      <td>4</td>\n",
       "    </tr>\n",
       "    <tr>\n",
       "      <td>1</td>\n",
       "      <td>0.000000</td>\n",
       "      <td>5.0</td>\n",
       "      <td>4</td>\n",
       "    </tr>\n",
       "    <tr>\n",
       "      <td>2</td>\n",
       "      <td>0.000000</td>\n",
       "      <td>9.0</td>\n",
       "      <td>2</td>\n",
       "    </tr>\n",
       "    <tr>\n",
       "      <td>3</td>\n",
       "      <td>70000.000000</td>\n",
       "      <td>4.0</td>\n",
       "      <td>4</td>\n",
       "    </tr>\n",
       "    <tr>\n",
       "      <td>4</td>\n",
       "      <td>110000.000000</td>\n",
       "      <td>5.0</td>\n",
       "      <td>4</td>\n",
       "    </tr>\n",
       "    <tr>\n",
       "      <td>5</td>\n",
       "      <td>0.000000</td>\n",
       "      <td>4.0</td>\n",
       "      <td>4</td>\n",
       "    </tr>\n",
       "    <tr>\n",
       "      <td>6</td>\n",
       "      <td>270000.000000</td>\n",
       "      <td>6.0</td>\n",
       "      <td>4</td>\n",
       "    </tr>\n",
       "    <tr>\n",
       "      <td>7</td>\n",
       "      <td>0.000000</td>\n",
       "      <td>5.0</td>\n",
       "      <td>4</td>\n",
       "    </tr>\n",
       "    <tr>\n",
       "      <td>8</td>\n",
       "      <td>0.000000</td>\n",
       "      <td>5.0</td>\n",
       "      <td>3</td>\n",
       "    </tr>\n",
       "    <tr>\n",
       "      <td>9</td>\n",
       "      <td>50807.164975</td>\n",
       "      <td>5.0</td>\n",
       "      <td>4</td>\n",
       "    </tr>\n",
       "    <tr>\n",
       "      <td>10</td>\n",
       "      <td>12000.000000</td>\n",
       "      <td>3.0</td>\n",
       "      <td>2</td>\n",
       "    </tr>\n",
       "    <tr>\n",
       "      <td>11</td>\n",
       "      <td>0.000000</td>\n",
       "      <td>4.0</td>\n",
       "      <td>4</td>\n",
       "    </tr>\n",
       "  </tbody>\n",
       "</table>\n",
       "</div>"
      ],
      "text/plain": [
       "     Monthly Rent  No of rooms  Predicted Poverty Level\n",
       "0   770229.000000          8.0                        4\n",
       "1        0.000000          5.0                        4\n",
       "2        0.000000          9.0                        2\n",
       "3    70000.000000          4.0                        4\n",
       "4   110000.000000          5.0                        4\n",
       "5        0.000000          4.0                        4\n",
       "6   270000.000000          6.0                        4\n",
       "7        0.000000          5.0                        4\n",
       "8        0.000000          5.0                        3\n",
       "9    50807.164975          5.0                        4\n",
       "10   12000.000000          3.0                        2\n",
       "11       0.000000          4.0                        4"
      ]
     },
     "execution_count": 83,
     "metadata": {},
     "output_type": "execute_result"
    }
   ],
   "source": [
    "ideal_model.fit(Xtrain,ytrain)\n",
    "print (ideal_model.score(Xtrain,ytrain))\n",
    "print (ideal_model.score(Xtest,ytest))\n",
    "output = finalModel.predict(Xtest)\n",
    "output_df = pd.DataFrame(output)\n",
    "X_test_df = pd.DataFrame(Xtest)\n",
    "\n",
    "#For display purpose using only v2a1(Monthly Rent  and no of rooms) though 140 Features were actually used\n",
    "Predicted_RF = pd.concat([X_test_df.iloc[:,[0,2]], output_df] , axis =1,)\n",
    "Predicted_RF.columns = ['Monthly Rent','No of rooms','Predicted Poverty Level']\n",
    "Predicted_RF\n"
   ]
  },
  {
   "cell_type": "markdown",
   "metadata": {},
   "source": [
    "### Conclusion:"
   ]
  },
  {
   "cell_type": "code",
   "execution_count": 84,
   "metadata": {},
   "outputs": [
    {
     "data": {
      "text/html": [
       "<div>\n",
       "<style scoped>\n",
       "    .dataframe tbody tr th:only-of-type {\n",
       "        vertical-align: middle;\n",
       "    }\n",
       "\n",
       "    .dataframe tbody tr th {\n",
       "        vertical-align: top;\n",
       "    }\n",
       "\n",
       "    .dataframe thead th {\n",
       "        text-align: right;\n",
       "    }\n",
       "</style>\n",
       "<table border=\"1\" class=\"dataframe\">\n",
       "  <thead>\n",
       "    <tr style=\"text-align: right;\">\n",
       "      <th></th>\n",
       "      <th>Max Depth</th>\n",
       "      <th>Model</th>\n",
       "      <th>Random State</th>\n",
       "      <th>Sample Split</th>\n",
       "      <th>Test Score</th>\n",
       "      <th>Train Score</th>\n",
       "    </tr>\n",
       "  </thead>\n",
       "  <tbody>\n",
       "    <tr>\n",
       "      <td>0</td>\n",
       "      <td>8</td>\n",
       "      <td>Random Forest</td>\n",
       "      <td>90.0</td>\n",
       "      <td>NaN</td>\n",
       "      <td>0.793</td>\n",
       "      <td>0.785</td>\n",
       "    </tr>\n",
       "    <tr>\n",
       "      <td>1</td>\n",
       "      <td>8</td>\n",
       "      <td>Random Forest with K Fold</td>\n",
       "      <td>NaN</td>\n",
       "      <td>609.0</td>\n",
       "      <td>1.000</td>\n",
       "      <td>0.770</td>\n",
       "    </tr>\n",
       "  </tbody>\n",
       "</table>\n",
       "</div>"
      ],
      "text/plain": [
       "   Max Depth                      Model  Random State  Sample Split  \\\n",
       "0          8              Random Forest          90.0           NaN   \n",
       "1          8  Random Forest with K Fold           NaN         609.0   \n",
       "\n",
       "   Test Score  Train Score  \n",
       "0       0.793        0.785  \n",
       "1       1.000        0.770  "
      ]
     },
     "execution_count": 84,
     "metadata": {},
     "output_type": "execute_result"
    }
   ],
   "source": [
    "pd.concat([Result_df,Result_df_KFold], axis = 0 ,ignore_index =True)"
   ]
  },
  {
   "cell_type": "code",
   "execution_count": null,
   "metadata": {},
   "outputs": [],
   "source": []
  }
 ],
 "metadata": {
  "kernelspec": {
   "display_name": "Python 3",
   "language": "python",
   "name": "python3"
  },
  "language_info": {
   "codemirror_mode": {
    "name": "ipython",
    "version": 3
   },
   "file_extension": ".py",
   "mimetype": "text/x-python",
   "name": "python",
   "nbconvert_exporter": "python",
   "pygments_lexer": "ipython3",
   "version": "3.7.4"
  }
 },
 "nbformat": 4,
 "nbformat_minor": 2
}
